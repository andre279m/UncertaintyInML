{
 "cells": [
  {
   "cell_type": "markdown",
   "metadata": {},
   "source": [
    "# Imports"
   ]
  },
  {
   "cell_type": "code",
   "execution_count": 1,
   "metadata": {},
   "outputs": [
    {
     "name": "stdout",
     "output_type": "stream",
     "text": [
      "Requirement already satisfied: numpy==1.18.1 in /home/amendes/anaconda3/envs/py36/lib/python3.6/site-packages (from -r requirements.txt (line 1)) (1.18.1)\n",
      "Requirement already satisfied: scipy==1.4.1 in /home/amendes/anaconda3/envs/py36/lib/python3.6/site-packages (from -r requirements.txt (line 2)) (1.4.1)\n",
      "Requirement already satisfied: rdflib==4.2.2 in /home/amendes/anaconda3/envs/py36/lib/python3.6/site-packages (from -r requirements.txt (line 3)) (4.2.2)\n",
      "Requirement already satisfied: seaborn in /home/amendes/anaconda3/envs/py36/lib/python3.6/site-packages (from -r requirements.txt (line 4)) (0.11.2)\n",
      "Requirement already satisfied: scikit-learn in /home/amendes/anaconda3/envs/py36/lib/python3.6/site-packages (from -r requirements.txt (line 5)) (0.24.2)\n",
      "Requirement already satisfied: sparqlwrapper in /home/amendes/anaconda3/envs/py36/lib/python3.6/site-packages (from -r requirements.txt (line 6)) (1.8.5)\n",
      "Requirement already satisfied: gensim==3.8.1 in /home/amendes/anaconda3/envs/py36/lib/python3.6/site-packages (from -r requirements.txt (line 7)) (3.8.1)\n",
      "Requirement already satisfied: tqdm==4.40.0 in /home/amendes/anaconda3/envs/py36/lib/python3.6/site-packages (from -r requirements.txt (line 8)) (4.40.0)\n",
      "Requirement already satisfied: matplotlib in /home/amendes/anaconda3/envs/py36/lib/python3.6/site-packages (from -r requirements.txt (line 9)) (3.3.4)\n",
      "Requirement already satisfied: networkx in /home/amendes/anaconda3/envs/py36/lib/python3.6/site-packages (from -r requirements.txt (line 10)) (2.5.1)\n",
      "Requirement already satisfied: isodate in /home/amendes/anaconda3/envs/py36/lib/python3.6/site-packages (from rdflib==4.2.2->-r requirements.txt (line 3)) (0.6.1)\n",
      "Requirement already satisfied: pyparsing in /home/amendes/anaconda3/envs/py36/lib/python3.6/site-packages (from rdflib==4.2.2->-r requirements.txt (line 3)) (3.1.1)\n",
      "Requirement already satisfied: smart-open>=1.8.1 in /home/amendes/anaconda3/envs/py36/lib/python3.6/site-packages (from gensim==3.8.1->-r requirements.txt (line 7)) (6.4.0)\n",
      "Requirement already satisfied: six>=1.5.0 in /home/amendes/anaconda3/envs/py36/lib/python3.6/site-packages (from gensim==3.8.1->-r requirements.txt (line 7)) (1.16.0)\n",
      "Requirement already satisfied: pandas>=0.23 in /home/amendes/anaconda3/envs/py36/lib/python3.6/site-packages (from seaborn->-r requirements.txt (line 4)) (1.1.5)\n",
      "Requirement already satisfied: threadpoolctl>=2.0.0 in /home/amendes/anaconda3/envs/py36/lib/python3.6/site-packages (from scikit-learn->-r requirements.txt (line 5)) (3.1.0)\n",
      "Requirement already satisfied: joblib>=0.11 in /home/amendes/anaconda3/envs/py36/lib/python3.6/site-packages (from scikit-learn->-r requirements.txt (line 5)) (1.1.1)\n",
      "Requirement already satisfied: python-dateutil>=2.1 in /home/amendes/anaconda3/envs/py36/lib/python3.6/site-packages (from matplotlib->-r requirements.txt (line 9)) (2.8.2)\n",
      "Requirement already satisfied: cycler>=0.10 in /home/amendes/anaconda3/envs/py36/lib/python3.6/site-packages (from matplotlib->-r requirements.txt (line 9)) (0.11.0)\n",
      "Requirement already satisfied: pillow>=6.2.0 in /home/amendes/anaconda3/envs/py36/lib/python3.6/site-packages (from matplotlib->-r requirements.txt (line 9)) (8.4.0)\n",
      "Requirement already satisfied: kiwisolver>=1.0.1 in /home/amendes/anaconda3/envs/py36/lib/python3.6/site-packages (from matplotlib->-r requirements.txt (line 9)) (1.3.1)\n",
      "Requirement already satisfied: decorator<5,>=4.3 in /home/amendes/anaconda3/envs/py36/lib/python3.6/site-packages (from networkx->-r requirements.txt (line 10)) (4.4.2)\n",
      "Requirement already satisfied: pytz>=2017.2 in /home/amendes/anaconda3/envs/py36/lib/python3.6/site-packages (from pandas>=0.23->seaborn->-r requirements.txt (line 4)) (2023.3.post1)\n",
      "Note: you may need to restart the kernel to use updated packages.\n"
     ]
    }
   ],
   "source": [
    "%pip install -r requirements.txt"
   ]
  },
  {
   "cell_type": "code",
   "execution_count": 2,
   "metadata": {},
   "outputs": [],
   "source": [
    "import rdflib\n",
    "import pandas as pd\n",
    "import matplotlib.pyplot as plt\n",
    "import numpy as np\n",
    "from sklearn.model_selection import StratifiedShuffleSplit\n",
    "from sklearn import metrics\n",
    "from sklearn.ensemble import RandomForestClassifier\n",
    "import random"
   ]
  },
  {
   "cell_type": "markdown",
   "metadata": {},
   "source": [
    "# Files"
   ]
  },
  {
   "cell_type": "code",
   "execution_count": 3,
   "metadata": {},
   "outputs": [],
   "source": [
    "gene_ontology_file_path = 'DB/go.owl'\n",
    "protein_file_path = 'DB/9606.protein.enrichment.terms.v12.0.txt'\n",
    "protein_links_file_path = 'DB/9606.protein.links.v12.0.txt'\n",
    "protein_full_links_file_path = 'DB/9606.protein.links.detailed.v12.0.txt'\n",
    "semantic_similarity_file_path = 'DB/NegativeSamplesUncertainty.csv'\n",
    "gene_ontology_annotated_file_path = 'DB/go_annotated.owl'"
   ]
  },
  {
   "cell_type": "markdown",
   "metadata": {},
   "source": [
    "# Creating the Knowledge graph"
   ]
  },
  {
   "cell_type": "code",
   "execution_count": 4,
   "metadata": {},
   "outputs": [],
   "source": [
    "g = rdflib.Graph()\n",
    "g.parse(gene_ontology_annotated_file_path, format = 'xml');\n",
    "\n",
    "prots = pd.read_csv(protein_file_path, sep='\\t', header=0)\n",
    "prots = prots[prots['term'].str.startswith('GO:')].reset_index(drop=True)\n",
    "prots = prots['#string_protein_id'].unique().tolist()"
   ]
  },
  {
   "cell_type": "markdown",
   "metadata": {},
   "source": [
    "g = rdflib.Graph()\n",
    "g.parse(gene_ontology_file_path, format = 'xml');\n",
    "\n",
    "prots = []\n",
    "\n",
    "with open(protein_file_path , 'r') as prot_annot:\n",
    "    prot_annot.readline()\n",
    "    for line in prot_annot:\n",
    "        elements_annot = line.split('\\t')\n",
    "        id_prot, GO_term = elements_annot[0], elements_annot[2]\n",
    "        if GO_term.startswith('GO:') :\n",
    "            url_GO_term = 'http://purl.obolibrary.org/obo/GO_' + GO_term.split(':')[1]\n",
    "            url_prot = 'https://string-db.org/network/' + id_prot\n",
    "            if id_prot not in prots:\n",
    "                prots.append(id_prot)\n",
    "            #if (id_prot in data2[\"protein1\"].values or id_prot in data2[\"protein2\"].values) and url_prot not in prots:\n",
    "            #    prots.append(url_prot)\n",
    "            g.add((rdflib.term.URIRef(url_prot), rdflib.term.URIRef('http://purl.obolibrary.org/obo/go.owl#has_function') , rdflib.term.URIRef(url_GO_term)))"
   ]
  },
  {
   "cell_type": "markdown",
   "metadata": {},
   "source": [
    "# Distribution of Confidence"
   ]
  },
  {
   "cell_type": "code",
   "execution_count": 5,
   "metadata": {},
   "outputs": [],
   "source": [
    "data_full = pd.read_csv(protein_full_links_file_path, sep=\" \", header=0)\n",
    "data_full = data_full[data_full[\"protein1\"].isin(prots) & data_full[\"protein2\"].isin(prots)]"
   ]
  },
  {
   "cell_type": "code",
   "execution_count": 6,
   "metadata": {},
   "outputs": [
    {
     "data": {
      "image/png": "[encoded data removed]",
      "text/plain": [
       "<Figure size 432x288 with 1 Axes>"
      ]
     },
     "metadata": {
      "needs_background": "light"
     },
     "output_type": "display_data"
    }
   ],
   "source": [
    "# Create a histogram and get the patches\n",
    "counts, bins, patches = plt.hist(data_full['combined_score'], bins=10, bottom=list(range(0,1000,100)), range=(0,1000))\n",
    "\n",
    "# Set the title and labels\n",
    "plt.title('Number of entries in STRING DB')\n",
    "plt.xlabel('Confidence Score')\n",
    "plt.ylabel('Number of interactions')\n",
    "\n",
    "# Annotate histogram with the number of data points in each bin\n",
    "for count, bin, patch in zip(counts, bins, patches):\n",
    "    height = patch.get_height()\n",
    "    plt.text(bin, height, str(int(count)), va='bottom', fontsize=7.5)\n",
    "\n",
    "plt.show()"
   ]
  },
  {
   "cell_type": "code",
   "execution_count": 7,
   "metadata": {},
   "outputs": [
    {
     "data": {
      "image/png": "[encoded data removed]",
      "text/plain": [
       "<Figure size 432x288 with 8 Axes>"
      ]
     },
     "metadata": {
      "needs_background": "light"
     },
     "output_type": "display_data"
    }
   ],
   "source": [
    "fig, axs = plt.subplots(2, 4)\n",
    "axs[0, 0].hist(data_full['combined_score'],bins=10,bottom=list(range(0,1000,100)),range=(0,1000));\n",
    "axs[0, 0].set_title('Combined score', y=1.1)  # Increase the y parameter to move the title up\n",
    "axs[0, 1].hist(data_full['neighborhood'],bins=10,bottom=list(range(0,1000,100)),range=(0,1000));\n",
    "axs[0, 1].set_title('Conserved Neighbourhood', y=1.1)\n",
    "axs[0, 2].hist(data_full['fusion'],bins=10,bottom=list(range(0,1000,100)),range=(0,1000));\n",
    "axs[0, 2].set_title('Fusion', y=1.1)\n",
    "axs[0, 3].hist(data_full['cooccurence'],bins=10,bottom=list(range(0,1000,100)),range=(0,1000));\n",
    "axs[0, 3].set_title('Co-occurrence', y=1.1)\n",
    "axs[1, 0].hist(data_full['experimental'],bins=10,bottom=list(range(0,1000,100)),range=(0,1000));\n",
    "axs[1, 0].set_title('Experimental', y=1.1)\n",
    "axs[1, 1].hist(data_full['database'],bins=10,bottom=list(range(0,1000,100)),range=(0,1000));\n",
    "axs[1, 1].set_title('Database', y=1.1)\n",
    "axs[1, 2].hist(data_full['coexpression'],bins=10,bottom=list(range(0,1000,100)),range=(0,1000));\n",
    "axs[1, 2].set_title('Co-expression', y=1.1)\n",
    "axs[1, 3].hist(data_full['textmining'],bins=10,bottom=list(range(0,1000,100)),range=(0,1000));\n",
    "axs[1, 3].set_title('Text mining', y=1.1);\n",
    "\n",
    "plt.subplots_adjust(left=0.01, right=1.3, hspace=0.5)\n",
    "\n",
    "# Hide x labels and tick labels for top plots and y ticks for right plots.\n",
    "#for ax in axs.flat:\n",
    "#    ax.label_outer()"
   ]
  },
  {
   "cell_type": "code",
   "execution_count": 8,
   "metadata": {},
   "outputs": [
    {
     "name": "stderr",
     "output_type": "stream",
     "text": [
      "/home/amendes/anaconda3/envs/py36/lib/python3.6/site-packages/numpy/lib/arraysetops.py:569: FutureWarning: elementwise comparison failed; returning scalar instead, but in the future will perform elementwise comparison\n",
      "  mask |= (ar1 == a)\n"
     ]
    }
   ],
   "source": [
    "negatives = pd.read_csv(semantic_similarity_file_path, header=0, index_col=0,dtype={'Entity A': str, 'Entity B': str}).sort_values(by=['BMA_Seco2004'], ascending=True).reset_index()\n",
    "negatives['BMA_Seco2004'] = (1-negatives['BMA_Seco2004']) * 1000\n",
    "negatives['Entity A'] = 'https://string-db.org/network/9606.ENSP' + negatives['Entity A']\n",
    "negatives['Entity B'] = 'https://string-db.org/network/9606.ENSP' + negatives['Entity B']"
   ]
  },
  {
   "cell_type": "code",
   "execution_count": 9,
   "metadata": {},
   "outputs": [
    {
     "data": {
      "image/png": "[encoded data removed]",
      "text/plain": [
       "<Figure size 432x288 with 1 Axes>"
      ]
     },
     "metadata": {
      "needs_background": "light"
     },
     "output_type": "display_data"
    }
   ],
   "source": [
    "# Create a histogram and get the patches\n",
    "counts, bins, patches = plt.hist(negatives['BMA_Seco2004'], bins=10, bottom=list(range(0,1000,100)), range=(0,1000))\n",
    "\n",
    "# Set the title and labels\n",
    "plt.title('Distribution of Semantic Similarity Scores')\n",
    "plt.xlabel('Similarity Score')\n",
    "plt.ylabel('Number of interactions')\n",
    "\n",
    "# Annotate histogram with the number of data points in each bin\n",
    "for count, bin, patch in zip(counts, bins, patches):\n",
    "    height = patch.get_height()\n",
    "    plt.text(bin, height, str(int(count)), va='bottom', fontsize=7.5)\n",
    "\n",
    "plt.show()"
   ]
  },
  {
   "cell_type": "markdown",
   "metadata": {},
   "source": [
    "# Creating thresholds"
   ]
  },
  {
   "cell_type": "code",
   "execution_count": 10,
   "metadata": {},
   "outputs": [],
   "source": [
    "# Thresholds for the whole dataset\n",
    "\n",
    "# data8 = data_full.where(data_full['combined_score']>800).dropna().reset_index(drop=True)\n",
    "# data6 = data_full.where(data_full['combined_score']>600).dropna().reset_index(drop=True)\n",
    "# data4 = data_full.where(data_full['combined_score']>400).dropna().reset_index(drop=True)\n",
    "# data2 = data_full.where(data_full['combined_score']>200).dropna().reset_index(drop=True)\n",
    "# dataSample = data_full\n",
    "\n",
    "# Thresholds for fixed size sampling (1000 samples)\n",
    "\n",
    "# data8 = data_full.where(data_full['combined_score']>800).dropna().reset_index(drop=True).sample(n=1000, random_state=42)\n",
    "# data6 = data_full.where(data_full['combined_score']>600).dropna().reset_index(drop=True).sample(n=1000,random_state=42)\n",
    "# data4 = data_full.where(data_full['combined_score']>400).dropna().reset_index(drop=True).sample(n=1000,random_state=42)\n",
    "# data2 = data_full.where(data_full['combined_score']>200).dropna().reset_index(drop=True).sample(n=1000,random_state=42)\n",
    "# dataSample = data_full.sample(n=1000,random_state=42)\n",
    "\n",
    "# Thresholds for fraction sampling (10% of the data)\n",
    "\n",
    "data8 = data_full.where(data_full['combined_score']>800).dropna().reset_index(drop=True).sample(frac=0.1, random_state=42)\n",
    "data6 = data_full.where(data_full['combined_score']>600).dropna().reset_index(drop=True).sample(frac=0.1,random_state=42)\n",
    "data4 = data_full.where(data_full['combined_score']>400).dropna().reset_index(drop=True).sample(frac=0.1,random_state=42)\n",
    "data2 = data_full.where(data_full['combined_score']>200).dropna().reset_index(drop=True).sample(frac=0.1,random_state=42)\n",
    "dataSample = data_full.sample(frac=0.1,random_state=42)\n",
    "\n",
    "\n",
    "# Thresholds for uniform sampling\n",
    "\n",
    "# select = []\n",
    "# for N in range(1000):\n",
    "#    ind = int(N*len(data8)/1000)\n",
    "#    select.append(ind)\n",
    "# data8 = data8.loc[select]\n",
    "# select = []\n",
    "# for N in range(1000):\n",
    "#    ind = int(N*len(data6)/1000)\n",
    "#    select.append(ind)\n",
    "# data6 = data6.loc[select]\n",
    "# select = []\n",
    "# for N in range(1000):\n",
    "#    ind = int(N*len(data4)/1000)\n",
    "#    select.append(ind)\n",
    "# data4 = data4.loc[select]\n",
    "# select = []\n",
    "# for N in range(1000):\n",
    "#    ind = int(N*len(data8)/1000)\n",
    "#    select.append(ind)\n",
    "# data2 = data2.loc[select]\n",
    "# select = []\n",
    "# for N in range(1000):\n",
    "#    ind = int(N*len(dataSample)/1000)\n",
    "#    select.append(ind)\n",
    "# dataSample = dataSample.reset_index(drop=True).loc[select]\n",
    "\n",
    "\n",
    "# Thresholds for training with data above 800 and testing with data below 800\n",
    "# train = data_full.where(data_full['combined_score']>800).dropna().reset_index(drop=True).sample(frac=0.1,random_state=42)\n",
    "# test = data_full.where(data_full['combined_score']<800).dropna().reset_index(drop=True).sample(frac=0.1,random_state=42)\n",
    "\n",
    "all_negative_pairs_prots = []\n",
    "# Without semantic similarity\n",
    "# pairs_prots_STRING = []\n",
    "# for d in data_full.values:\n",
    "#     pairs_prots_STRING.append(('https://string-db.org/network/' + d[0],'https://string-db.org/network/' + d[1], 1))\n",
    "# pairs_prots_STRING = set(pairs_prots_STRING)\n",
    "# Creating a list of all proteins\n",
    "# prots_links = ['https://string-db.org/network/' + prot for prot in prots]\n",
    "# for prot in prots_links:\n",
    "#     for prot2 in prots_links:\n",
    "#         if (prot,prot2,1) in pairs_prots_STRING:\n",
    "#             continue\n",
    "#         elif prot != prot2:\n",
    "#             all_negative_pairs_prots.append((prot,prot2,0))\n",
    "\n",
    "# del pairs_prots_STRING\n",
    "# del prots_links\n",
    "\n",
    "# With semantic similarity\n",
    "for n in negatives.values:\n",
    "    all_negative_pairs_prots.append((n[1],n[2],0))\n",
    "\n",
    "del data_full\n",
    "del negatives\n",
    "del prots"
   ]
  },
  {
   "cell_type": "markdown",
   "metadata": {},
   "source": [
    "# Pipeline"
   ]
  },
  {
   "cell_type": "markdown",
   "metadata": {
    "tags": [
     "parameters"
    ]
   },
   "source": [
    "# Imports\n",
    "from pyrdf2vec.graphs import kg\n",
    "from pyrdf2vec.rdf2vec import RDF2VecTransformer\n",
    "from pyrdf2vec.embedders import Word2Vec\n",
    "from pyrdf2vec.samplers import UniformSampler, ObjFreqSampler, PredFreqSampler\n",
    "from pyrdf2vec.walkers import RandomWalker, WeisfeilerLehmanWalker, WalkletWalker\n",
    "\n",
    "# Defining rdf2vec paramenters\n",
    "vector_size = 200\n",
    "n_walks = 100\n",
    "type_word2vec = 'skip-gram'\n",
    "walk_depth = 4\n",
    "walker_type = 'wl'\n",
    "sampler_type = 'uniform'\n",
    "\n",
    "# Creating a pyrdf2vec graph\n",
    "g_pyrdf2vec = kg.rdflib_to_kg(g)\n",
    "\n",
    "# Defining the word2vec strategy\n",
    "if type_word2vec == 'CBOW':\n",
    "    sg_value = 0\n",
    "elif type_word2vec == 'skip-gram':\n",
    "    sg_value = 1\n",
    "\n",
    "# Defining sampling strategy\n",
    "if sampler_type.lower() == 'uniform':\n",
    "    sampler = UniformSampler()\n",
    "elif sampler_type.lower() == 'predfreq':\n",
    "    sampler = PredFreqSampler()\n",
    "elif sampler_type.lower() == 'objfreq':\n",
    "    sampler = ObjFreqSampler()\n",
    "\n",
    "# Defining walker strategy\n",
    "if walker_type.lower() == 'random':\n",
    "    walker = RandomWalker(depth=walk_depth, walks_per_graph=n_walks, sampler = sampler, n_jobs = -1)\n",
    "elif walker_type.lower() == 'wl':\n",
    "    walker = WeisfeilerLehmanWalker(depth=walk_depth, walks_per_graph=n_walks, sampler = sampler, n_jobs = -1)\n",
    "elif walker_type.lower() == 'walklet':\n",
    "    walker = WalkletWalker(depth=walk_depth, walks_per_graph=n_walks, sampler = sampler, n_jobs = -1 )\n",
    "\n",
    "# testing RDF2Vec embeddings\n",
    "transformer = RDF2VecTransformer(Word2Vec(size=vector_size, sg=sg_value), walkers=[walker])\n",
    "\n",
    "# Generating the embeddings\n",
    "embeddings = transformer.fit_transform(g_pyrdf2vec, prots)\n",
    "dict_embeddings = {prots[i]: embeddings[i] for i in range(len(prots))}\n",
    "dict_embeddings.to_csv('DB/embeddings.csv', index=True)"
   ]
  },
  {
   "cell_type": "code",
   "execution_count": 11,
   "metadata": {},
   "outputs": [],
   "source": [
    "embedCSV = pd.read_csv('DB/embeddings.csv',index_col=0)\n",
    "embeddings_array = np.array(list(embedCSV.values))\n",
    "dict_embeddings = {embedCSV.index[i]: embeddings_array[i] for i in range(len(embeddings_array))}\n",
    "vector_size = embedCSV.shape[1]"
   ]
  },
  {
   "cell_type": "code",
   "execution_count": 20,
   "metadata": {},
   "outputs": [
    {
     "name": "stdout",
     "output_type": "stream",
     "text": [
      "Weighted Average F-measure for 800 or more confidence score= 0.9782902905763008\n",
      "Weighted Average F-measure for 600 or more confidence score= 0.967494827176874\n",
      "Weighted Average F-measure for 400 or more confidence score= 0.9340915565912195\n",
      "Weighted Average F-measure for 200 or more confidence score= 0.8211102418274658\n",
      "Weighted Average F-measure for 0 or more confidence score= 0.7125550688130405\n"
     ]
    }
   ],
   "source": [
    "random.seed(42)\n",
    "\n",
    "f1_results = {} # list of f1 results\n",
    "\n",
    "for i in range(800, -1, -200):\n",
    "    if i == 800:\n",
    "        data = data8\n",
    "    elif i == 600:\n",
    "        data = data6\n",
    "    elif i == 400:\n",
    "        data = data4\n",
    "    elif i == 200:\n",
    "        data = data2\n",
    "    elif i == 0:\n",
    "        data = dataSample\n",
    "\n",
    "    pairs_prots = []\n",
    "    for d in data.values:\n",
    "        pairs_prots.append(('https://string-db.org/network/' + d[0],'https://string-db.org/network/' + d[1], 1))\n",
    "\n",
    "    # Withou semantic similarity\n",
    "    #negative_pairs_prots = random.sample(all_negative_pairs_prots, len(pairs_prots))\n",
    "        \n",
    "    # With semantic similarity\n",
    "    negative_pairs_prots = all_negative_pairs_prots[:len(pairs_prots)]    \n",
    "\n",
    "    # Generating pair representations using hadamard operator # other possibilities are concatenation, wl-1 or wl-2\n",
    "    X, y = [], []\n",
    "    for prot1, prot2, label in pairs_prots:\n",
    "        emb_prot1 = dict_embeddings[prot1].reshape(1, vector_size)\n",
    "        emb_prot2 = dict_embeddings[prot2].reshape(1, vector_size)\n",
    "        hada = np.multiply(emb_prot1, emb_prot2)\n",
    "        X.append(hada.tolist()[0])\n",
    "        y.append(int(label))\n",
    "\n",
    "    for prot1, prot2, label in negative_pairs_prots:\n",
    "        emb_prot1 = dict_embeddings[prot1].reshape(1, vector_size)\n",
    "        emb_prot2 = dict_embeddings[prot2].reshape(1, vector_size)\n",
    "        hada = np.multiply(emb_prot1, emb_prot2)\n",
    "        X.append(hada.tolist()[0])\n",
    "        y.append(int(label))\n",
    "\n",
    "    f1 = []\n",
    "\n",
    "    # Creating training set and test set\n",
    "    sss = StratifiedShuffleSplit(n_splits=10, random_state=42)\n",
    "    X, y = np.array(X), np.array(y)\n",
    "    for train_index, test_index in sss.split(X, y):\n",
    "        X_train, X_test = X[train_index], X[test_index]\n",
    "        y_train, y_test = y[train_index], y[test_index]\n",
    "    #X_train, X_test, y_train, y_test = train_test_split(X, y, test_size=0.3, random_state=42, shuffle=True)\n",
    "\n",
    "        # Training Random Forest classifier\n",
    "        rf_model = RandomForestClassifier(n_jobs=-1, random_state=42)\n",
    "        rf_model.fit(X_train, y_train)\n",
    "\n",
    "        # Obtaining predictions\n",
    "        pred_test = rf_model.predict(X_test)\n",
    "\n",
    "        # Computing performance metrics\n",
    "        weighted_avg_f1 = metrics.f1_score(y_test, pred_test, average='weighted')\n",
    "        f1.append(weighted_avg_f1)\n",
    "    \n",
    "    f1_mean = np.mean(f1)\n",
    "    \n",
    "    f1_results[i] = f1_mean\n",
    "\n",
    "    # Printing performance metrics\n",
    "    print('Weighted Average F-measure for ' + str(i) + ' or more confidence score= ' + str(f1_mean))"
   ]
  },
  {
   "cell_type": "markdown",
   "metadata": {},
   "source": [
    "# F-measure Analysis"
   ]
  },
  {
   "cell_type": "code",
   "execution_count": 21,
   "metadata": {},
   "outputs": [
    {
     "data": {
      "image/png": "[encoded data removed]",
      "text/plain": [
       "<Figure size 432x288 with 1 Axes>"
      ]
     },
     "metadata": {
      "needs_background": "light"
     },
     "output_type": "display_data"
    }
   ],
   "source": [
    "f1_x = list(f1_results.keys())\n",
    "f1_y = list(f1_results.values())\n",
    "\n",
    "plt.scatter(f1_x,f1_y)\n",
    "plt.xlabel('Confidence')\n",
    "plt.ylabel('F1-score')\n",
    "plt.ylim(0,1)\n",
    "plt.title('F1-score vs Confidence')\n",
    "\n",
    "#use for loop to add annotations to each point in plot \n",
    "for i, txt in enumerate(f1_y):\n",
    "    plt.annotate(round(txt,3), (f1_x[i]+.25, f1_y[i]), fontsize=12)\n",
    "\n",
    "plt.show()"
   ]
  },
  {
   "cell_type": "markdown",
   "metadata": {},
   "source": [
    "# Train dataset"
   ]
  },
  {
   "cell_type": "code",
   "execution_count": null,
   "metadata": {},
   "outputs": [
    {
     "ename": "NameError",
     "evalue": "name 'train' is not defined",
     "output_type": "error",
     "traceback": [
      "\u001b[0;31m---------------------------------------------------------------------------\u001b[0m",
      "\u001b[0;31mNameError\u001b[0m                                 Traceback (most recent call last)",
      "\u001b[0;32m<ipython-input-18-c3093226fcbc>\u001b[0m in \u001b[0;36m<module>\u001b[0;34m\u001b[0m\n\u001b[1;32m      1\u001b[0m \u001b[0mpairs_prots_train\u001b[0m \u001b[0;34m=\u001b[0m \u001b[0;34m[\u001b[0m\u001b[0;34m]\u001b[0m\u001b[0;34m\u001b[0m\u001b[0;34m\u001b[0m\u001b[0m\n\u001b[0;32m----> 2\u001b[0;31m \u001b[0;32mfor\u001b[0m \u001b[0md\u001b[0m \u001b[0;32min\u001b[0m \u001b[0mtrain\u001b[0m\u001b[0;34m.\u001b[0m\u001b[0mvalues\u001b[0m\u001b[0;34m:\u001b[0m\u001b[0;34m\u001b[0m\u001b[0;34m\u001b[0m\u001b[0m\n\u001b[0m\u001b[1;32m      3\u001b[0m     \u001b[0mpairs_prots_train\u001b[0m\u001b[0;34m.\u001b[0m\u001b[0mappend\u001b[0m\u001b[0;34m(\u001b[0m\u001b[0;34m(\u001b[0m\u001b[0;34m'https://string-db.org/network/'\u001b[0m \u001b[0;34m+\u001b[0m \u001b[0md\u001b[0m\u001b[0;34m[\u001b[0m\u001b[0;36m0\u001b[0m\u001b[0;34m]\u001b[0m\u001b[0;34m,\u001b[0m\u001b[0;34m'https://string-db.org/network/'\u001b[0m \u001b[0;34m+\u001b[0m \u001b[0md\u001b[0m\u001b[0;34m[\u001b[0m\u001b[0;36m1\u001b[0m\u001b[0;34m]\u001b[0m\u001b[0;34m,\u001b[0m \u001b[0;36m1\u001b[0m\u001b[0;34m)\u001b[0m\u001b[0;34m)\u001b[0m\u001b[0;34m\u001b[0m\u001b[0;34m\u001b[0m\u001b[0m\n\u001b[1;32m      4\u001b[0m \u001b[0;34m\u001b[0m\u001b[0m\n\u001b[1;32m      5\u001b[0m \u001b[0mpairs_prots_train\u001b[0m \u001b[0;34m=\u001b[0m \u001b[0mset\u001b[0m\u001b[0;34m(\u001b[0m\u001b[0mpairs_prots_train\u001b[0m\u001b[0;34m)\u001b[0m\u001b[0;34m\u001b[0m\u001b[0;34m\u001b[0m\u001b[0m\n",
      "\u001b[0;31mNameError\u001b[0m: name 'train' is not defined"
     ]
    }
   ],
   "source": [
    "pairs_prots_train = []\n",
    "for d in train.values:\n",
    "    pairs_prots_train.append(('https://string-db.org/network/' + d[0],'https://string-db.org/network/' + d[1], 1))\n",
    "\n",
    "pairs_prots_train = set(pairs_prots_train)\n",
    "\n",
    "negative_pairs_prots_train = random.sample(negative_pairs_prots, len(pairs_prots_train))\n",
    "\n",
    "# Generating pair representations using haddamard operator # other possibilities are concatenation, wl-1 or wl-2\n",
    "X_train, y_train = [], []\n",
    "for prot1, prot2, label in pairs_prots_train:\n",
    "    emb_prot1 = dict_embeddings[prot1].reshape(1, vector_size)\n",
    "    emb_prot2 = dict_embeddings[prot2].reshape(1, vector_size)\n",
    "    hada = np.multiply(emb_prot1, emb_prot2)\n",
    "    X_train.append(hada.tolist()[0])\n",
    "    y_train.append(int(label))\n",
    "\n",
    "for prot1, prot2, label in negative_pairs_prots_train:\n",
    "    emb_prot1 = dict_embeddings[prot1].reshape(1, vector_size)\n",
    "    emb_prot2 = dict_embeddings[prot2].reshape(1, vector_size)\n",
    "    hada = np.multiply(emb_prot1, emb_prot2)\n",
    "    X_train.append(hada.tolist()[0])\n",
    "    y_train.append(int(label))"
   ]
  },
  {
   "cell_type": "markdown",
   "metadata": {},
   "source": [
    "# Test dataset"
   ]
  },
  {
   "cell_type": "code",
   "execution_count": null,
   "metadata": {},
   "outputs": [],
   "source": [
    "pairs_prots_test = []\n",
    "for d in test.values:\n",
    "    pairs_prots_test.append(('https://string-db.org/network/' + d[0],'https://string-db.org/network/' + d[1], 1))\n",
    "\n",
    "negative_pairs_prots_train = set(negative_pairs_prots_train)\n",
    "\n",
    "negative_pairs_prots_test = [item for item in negative_pairs_prots if item not in negative_pairs_prots_train]\n",
    "negative_pairs_prots_test = random.sample(negative_pairs_prots_test, len(pairs_prots_test))\n",
    "\n",
    "# Generating pair representations using haddamard operator # other possibilities are concatenation, wl-1 or wl-2\n",
    "X_test, y_test = [], []\n",
    "for prot1, prot2, label in pairs_prots_test:\n",
    "    emb_prot1 = dict_embeddings[prot1].reshape(1, vector_size)\n",
    "    emb_prot2 = dict_embeddings[prot2].reshape(1, vector_size)\n",
    "    hada = np.multiply(emb_prot1, emb_prot2)\n",
    "    X_test.append(hada.tolist()[0])\n",
    "    y_test.append(int(label))\n",
    "\n",
    "for prot1, prot2, label in negative_pairs_prots_test:\n",
    "    emb_prot1 = dict_embeddings[prot1].reshape(1, vector_size)\n",
    "    emb_prot2 = dict_embeddings[prot2].reshape(1, vector_size)\n",
    "    hada = np.multiply(emb_prot1, emb_prot2)\n",
    "    X_test.append(hada.tolist()[0])\n",
    "    y_test.append(int(label))"
   ]
  },
  {
   "cell_type": "markdown",
   "metadata": {},
   "source": [
    "# Training"
   ]
  },
  {
   "cell_type": "code",
   "execution_count": null,
   "metadata": {},
   "outputs": [
    {
     "name": "stdout",
     "output_type": "stream",
     "text": [
      "Weighted average F1-score:  0.6167165613728778\n"
     ]
    }
   ],
   "source": [
    "# Training Random Forest classifier\n",
    "rf_model = RandomForestClassifier()\n",
    "rf_model.fit(X_train, y_train)\n",
    "\n",
    "# Obtaining predictions\n",
    "pred_test = rf_model.predict(X_test)\n",
    "\n",
    "# Computing performance metrics\n",
    "weighted_avg_f1 = metrics.f1_score(y_test, pred_test, average='weighted')\n",
    "\n",
    "print('Weighted average F1-score: ', weighted_avg_f1)"
   ]
  }
 ],
 "metadata": {
  "kernelspec": {
   "display_name": "py36",
   "language": "python",
   "name": "python3"
  },
  "language_info": {
   "codemirror_mode": {
    "name": "ipython",
    "version": 3
   },
   "file_extension": ".py",
   "mimetype": "text/x-python",
   "name": "python",
   "nbconvert_exporter": "python",
   "pygments_lexer": "ipython3",
   "version": "3.6.13"
  }
 },
 "nbformat": 4,
 "nbformat_minor": 2
}
