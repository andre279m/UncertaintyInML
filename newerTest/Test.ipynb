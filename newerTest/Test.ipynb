{
 "cells": [
  {
   "cell_type": "markdown",
   "id": "ebd93b5b",
   "metadata": {},
   "source": [
    "# Imports"
   ]
  },
  {
   "cell_type": "code",
   "execution_count": 1,
   "id": "ef587d96",
   "metadata": {},
   "outputs": [
    {
     "name": "stdout",
     "output_type": "stream",
     "text": [
      "Requirement already satisfied: numpy==1.26.0 in /home/amendes/anaconda3/lib/python3.11/site-packages (from -r requirements3_9.txt (line 1)) (1.26.0)\n",
      "Requirement already satisfied: scipy==1.11.3 in /home/amendes/anaconda3/lib/python3.11/site-packages (from -r requirements3_9.txt (line 2)) (1.11.3)\n",
      "Requirement already satisfied: rdflib==7.0.0 in /home/amendes/anaconda3/lib/python3.11/site-packages (from -r requirements3_9.txt (line 3)) (7.0.0)\n",
      "Requirement already satisfied: seaborn==0.13.0 in /home/amendes/anaconda3/lib/python3.11/site-packages (from -r requirements3_9.txt (line 4)) (0.13.0)\n",
      "Requirement already satisfied: scikit-learn==1.3.1 in /home/amendes/anaconda3/lib/python3.11/site-packages (from -r requirements3_9.txt (line 5)) (1.3.1)\n",
      "Requirement already satisfied: sparqlwrapper==2.0.0 in /home/amendes/anaconda3/lib/python3.11/site-packages (from -r requirements3_9.txt (line 6)) (2.0.0)\n",
      "Requirement already satisfied: gensim==4.3.2 in /home/amendes/anaconda3/lib/python3.11/site-packages (from -r requirements3_9.txt (line 7)) (4.3.2)\n",
      "Requirement already satisfied: tqdm==4.66.1 in /home/amendes/anaconda3/lib/python3.11/site-packages (from -r requirements3_9.txt (line 8)) (4.66.1)\n",
      "Requirement already satisfied: matplotlib==3.8.0 in /home/amendes/anaconda3/lib/python3.11/site-packages (from -r requirements3_9.txt (line 9)) (3.8.0)\n",
      "Requirement already satisfied: aiohttp==3.8.5 in /home/amendes/anaconda3/lib/python3.11/site-packages (from -r requirements3_9.txt (line 10)) (3.8.5)\n",
      "Requirement already satisfied: networkx==3.1 in /home/amendes/anaconda3/lib/python3.11/site-packages (from -r requirements3_9.txt (line 11)) (3.1)\n",
      "Requirement already satisfied: isodate<0.7.0,>=0.6.0 in /home/amendes/anaconda3/lib/python3.11/site-packages (from rdflib==7.0.0->-r requirements3_9.txt (line 3)) (0.6.1)\n",
      "Requirement already satisfied: pyparsing<4,>=2.1.0 in /home/amendes/anaconda3/lib/python3.11/site-packages (from rdflib==7.0.0->-r requirements3_9.txt (line 3)) (3.0.9)\n",
      "Requirement already satisfied: pandas>=1.2 in /home/amendes/anaconda3/lib/python3.11/site-packages (from seaborn==0.13.0->-r requirements3_9.txt (line 4)) (2.1.1)\n",
      "Requirement already satisfied: joblib>=1.1.1 in /home/amendes/anaconda3/lib/python3.11/site-packages (from scikit-learn==1.3.1->-r requirements3_9.txt (line 5)) (1.2.0)\n",
      "Requirement already satisfied: threadpoolctl>=2.0.0 in /home/amendes/anaconda3/lib/python3.11/site-packages (from scikit-learn==1.3.1->-r requirements3_9.txt (line 5)) (2.2.0)\n",
      "Requirement already satisfied: smart-open>=1.8.1 in /home/amendes/anaconda3/lib/python3.11/site-packages (from gensim==4.3.2->-r requirements3_9.txt (line 7)) (5.2.1)\n",
      "Requirement already satisfied: contourpy>=1.0.1 in /home/amendes/anaconda3/lib/python3.11/site-packages (from matplotlib==3.8.0->-r requirements3_9.txt (line 9)) (1.2.0)\n",
      "Requirement already satisfied: cycler>=0.10 in /home/amendes/anaconda3/lib/python3.11/site-packages (from matplotlib==3.8.0->-r requirements3_9.txt (line 9)) (0.11.0)\n",
      "Requirement already satisfied: fonttools>=4.22.0 in /home/amendes/anaconda3/lib/python3.11/site-packages (from matplotlib==3.8.0->-r requirements3_9.txt (line 9)) (4.25.0)\n",
      "Requirement already satisfied: kiwisolver>=1.0.1 in /home/amendes/anaconda3/lib/python3.11/site-packages (from matplotlib==3.8.0->-r requirements3_9.txt (line 9)) (1.4.4)\n",
      "Requirement already satisfied: packaging>=20.0 in /home/amendes/anaconda3/lib/python3.11/site-packages (from matplotlib==3.8.0->-r requirements3_9.txt (line 9)) (23.1)\n",
      "Requirement already satisfied: pillow>=6.2.0 in /home/amendes/anaconda3/lib/python3.11/site-packages (from matplotlib==3.8.0->-r requirements3_9.txt (line 9)) (10.0.1)\n",
      "Requirement already satisfied: python-dateutil>=2.7 in /home/amendes/anaconda3/lib/python3.11/site-packages (from matplotlib==3.8.0->-r requirements3_9.txt (line 9)) (2.8.2)\n",
      "Requirement already satisfied: attrs>=17.3.0 in /home/amendes/anaconda3/lib/python3.11/site-packages (from aiohttp==3.8.5->-r requirements3_9.txt (line 10)) (23.1.0)\n",
      "Requirement already satisfied: charset-normalizer<4.0,>=2.0 in /home/amendes/anaconda3/lib/python3.11/site-packages (from aiohttp==3.8.5->-r requirements3_9.txt (line 10)) (2.0.4)\n",
      "Requirement already satisfied: multidict<7.0,>=4.5 in /home/amendes/anaconda3/lib/python3.11/site-packages (from aiohttp==3.8.5->-r requirements3_9.txt (line 10)) (6.0.4)\n",
      "Requirement already satisfied: async-timeout<5.0,>=4.0.0a3 in /home/amendes/anaconda3/lib/python3.11/site-packages (from aiohttp==3.8.5->-r requirements3_9.txt (line 10)) (4.0.3)\n",
      "Requirement already satisfied: yarl<2.0,>=1.0 in /home/amendes/anaconda3/lib/python3.11/site-packages (from aiohttp==3.8.5->-r requirements3_9.txt (line 10)) (1.9.3)\n",
      "Requirement already satisfied: frozenlist>=1.1.1 in /home/amendes/anaconda3/lib/python3.11/site-packages (from aiohttp==3.8.5->-r requirements3_9.txt (line 10)) (1.4.0)\n",
      "Requirement already satisfied: aiosignal>=1.1.2 in /home/amendes/anaconda3/lib/python3.11/site-packages (from aiohttp==3.8.5->-r requirements3_9.txt (line 10)) (1.2.0)\n",
      "Requirement already satisfied: six in /home/amendes/anaconda3/lib/python3.11/site-packages (from isodate<0.7.0,>=0.6.0->rdflib==7.0.0->-r requirements3_9.txt (line 3)) (1.16.0)\n",
      "Requirement already satisfied: pytz>=2020.1 in /home/amendes/anaconda3/lib/python3.11/site-packages (from pandas>=1.2->seaborn==0.13.0->-r requirements3_9.txt (line 4)) (2023.3.post1)\n",
      "Requirement already satisfied: tzdata>=2022.1 in /home/amendes/anaconda3/lib/python3.11/site-packages (from pandas>=1.2->seaborn==0.13.0->-r requirements3_9.txt (line 4)) (2023.3)\n",
      "Requirement already satisfied: idna>=2.0 in /home/amendes/anaconda3/lib/python3.11/site-packages (from yarl<2.0,>=1.0->aiohttp==3.8.5->-r requirements3_9.txt (line 10)) (3.4)\n",
      "Note: you may need to restart the kernel to use updated packages.\n"
     ]
    }
   ],
   "source": [
    "%pip install -r requirements3_9.txt"
   ]
  },
  {
   "cell_type": "code",
   "execution_count": 2,
   "id": "9ce75cb3",
   "metadata": {},
   "outputs": [],
   "source": [
    "import rdflib\n",
    "import pandas as pd\n",
    "import matplotlib.pyplot as plt\n",
    "import numpy as np\n",
    "from sklearn.model_selection import StratifiedShuffleSplit\n",
    "from sklearn import metrics\n",
    "from sklearn.ensemble import RandomForestClassifier\n",
    "from pyrdf2vec.graphs import kg\n",
    "from pyrdf2vec.rdf2vec import RDF2VecTransformer\n",
    "from pyrdf2vec.graphs import Vertex\n",
    "from pyrdf2vec.embedders import Word2Vec\n",
    "from pyrdf2vec.samplers import UniformSampler, ObjFreqSampler, PredFreqSampler\n",
    "from pyrdf2vec.walkers import RandomWalker, WLWalker, WalkletWalker\n",
    "import random"
   ]
  },
  {
   "cell_type": "markdown",
   "id": "a2dbacb5",
   "metadata": {},
   "source": [
    "# Files"
   ]
  },
  {
   "cell_type": "code",
   "execution_count": 3,
   "id": "122411ff",
   "metadata": {},
   "outputs": [],
   "source": [
    "gene_ontology_file_path = '../DB/go.owl'\n",
    "protein_file_path = '../DB/9606.protein.enrichment.terms.v12.0.txt'\n",
    "protein_links_file_path = '../DB/9606.protein.links.v12.0.txt'\n",
    "protein_full_links_file_path = '../DB/9606.protein.links.detailed.v12.0.txt'"
   ]
  },
  {
   "cell_type": "markdown",
   "id": "ffdb6517",
   "metadata": {
    "scrolled": true
   },
   "source": [
    "data = pd.read_csv(protein_links_file_path, sep=\" \", header=0)\n",
    "data"
   ]
  },
  {
   "cell_type": "markdown",
   "id": "6c95e37a",
   "metadata": {},
   "source": [
    "# Creating the Knowledge graph"
   ]
  },
  {
   "cell_type": "code",
   "execution_count": 4,
   "id": "1d0475cf",
   "metadata": {},
   "outputs": [],
   "source": [
    "g = rdflib.Graph()\n",
    "g.parse(gene_ontology_file_path, format = 'xml');"
   ]
  },
  {
   "cell_type": "code",
   "execution_count": 5,
   "id": "f0015d27",
   "metadata": {},
   "outputs": [],
   "source": [
    "prots = []\n",
    "\n",
    "with open(protein_file_path , 'r') as prot_annot:\n",
    "    prot_annot.readline()\n",
    "    for line in prot_annot:\n",
    "        elements_annot = line.split('\\t')\n",
    "        id_prot, GO_term = elements_annot[0], elements_annot[2]\n",
    "        if GO_term.startswith('GO:') :\n",
    "            url_GO_term = 'http://purl.obolibrary.org/obo/GO_' + GO_term.split(':')[1]\n",
    "            url_prot = 'https://string-db.org/network/' + id_prot\n",
    "            if id_prot not in prots:\n",
    "                prots.append(id_prot)\n",
    "            #if (id_prot in data2[\"protein1\"].values or id_prot in data2[\"protein2\"].values) and url_prot not in prots:\n",
    "            #    prots.append(url_prot)\n",
    "            g.add((rdflib.term.URIRef(url_prot), rdflib.term.URIRef('http://purl.obolibrary.org/obo/go.owl#has_function') , rdflib.term.URIRef(url_GO_term)))"
   ]
  },
  {
   "cell_type": "markdown",
   "id": "27d51d20",
   "metadata": {},
   "source": [
    "# Distribution of Confidence"
   ]
  },
  {
   "cell_type": "markdown",
   "id": "ba947151",
   "metadata": {},
   "source": [
    "data = data[data[\"protein1\"].isin(prots) & data[\"protein2\"].isin(prots)]\n",
    "data"
   ]
  },
  {
   "cell_type": "code",
   "execution_count": 6,
   "id": "a8ab2c3d",
   "metadata": {},
   "outputs": [
    {
     "data": {
      "text/html": [
       "<div>\n",
       "<style scoped>\n",
       "    .dataframe tbody tr th:only-of-type {\n",
       "        vertical-align: middle;\n",
       "    }\n",
       "\n",
       "    .dataframe tbody tr th {\n",
       "        vertical-align: top;\n",
       "    }\n",
       "\n",
       "    .dataframe thead th {\n",
       "        text-align: right;\n",
       "    }\n",
       "</style>\n",
       "<table border=\"1\" class=\"dataframe\">\n",
       "  <thead>\n",
       "    <tr style=\"text-align: right;\">\n",
       "      <th></th>\n",
       "      <th>protein1</th>\n",
       "      <th>protein2</th>\n",
       "      <th>neighborhood</th>\n",
       "      <th>fusion</th>\n",
       "      <th>cooccurence</th>\n",
       "      <th>coexpression</th>\n",
       "      <th>experimental</th>\n",
       "      <th>database</th>\n",
       "      <th>textmining</th>\n",
       "      <th>combined_score</th>\n",
       "    </tr>\n",
       "  </thead>\n",
       "  <tbody>\n",
       "    <tr>\n",
       "      <th>0</th>\n",
       "      <td>9606.ENSP00000000233</td>\n",
       "      <td>9606.ENSP00000356607</td>\n",
       "      <td>0</td>\n",
       "      <td>0</td>\n",
       "      <td>0</td>\n",
       "      <td>45</td>\n",
       "      <td>134</td>\n",
       "      <td>0</td>\n",
       "      <td>81</td>\n",
       "      <td>173</td>\n",
       "    </tr>\n",
       "    <tr>\n",
       "      <th>1</th>\n",
       "      <td>9606.ENSP00000000233</td>\n",
       "      <td>9606.ENSP00000427567</td>\n",
       "      <td>0</td>\n",
       "      <td>0</td>\n",
       "      <td>0</td>\n",
       "      <td>0</td>\n",
       "      <td>128</td>\n",
       "      <td>0</td>\n",
       "      <td>70</td>\n",
       "      <td>154</td>\n",
       "    </tr>\n",
       "    <tr>\n",
       "      <th>2</th>\n",
       "      <td>9606.ENSP00000000233</td>\n",
       "      <td>9606.ENSP00000253413</td>\n",
       "      <td>0</td>\n",
       "      <td>0</td>\n",
       "      <td>0</td>\n",
       "      <td>118</td>\n",
       "      <td>49</td>\n",
       "      <td>0</td>\n",
       "      <td>69</td>\n",
       "      <td>151</td>\n",
       "    </tr>\n",
       "    <tr>\n",
       "      <th>3</th>\n",
       "      <td>9606.ENSP00000000233</td>\n",
       "      <td>9606.ENSP00000493357</td>\n",
       "      <td>0</td>\n",
       "      <td>0</td>\n",
       "      <td>0</td>\n",
       "      <td>56</td>\n",
       "      <td>53</td>\n",
       "      <td>0</td>\n",
       "      <td>457</td>\n",
       "      <td>471</td>\n",
       "    </tr>\n",
       "    <tr>\n",
       "      <th>4</th>\n",
       "      <td>9606.ENSP00000000233</td>\n",
       "      <td>9606.ENSP00000324127</td>\n",
       "      <td>0</td>\n",
       "      <td>0</td>\n",
       "      <td>0</td>\n",
       "      <td>0</td>\n",
       "      <td>46</td>\n",
       "      <td>0</td>\n",
       "      <td>197</td>\n",
       "      <td>201</td>\n",
       "    </tr>\n",
       "    <tr>\n",
       "      <th>...</th>\n",
       "      <td>...</td>\n",
       "      <td>...</td>\n",
       "      <td>...</td>\n",
       "      <td>...</td>\n",
       "      <td>...</td>\n",
       "      <td>...</td>\n",
       "      <td>...</td>\n",
       "      <td>...</td>\n",
       "      <td>...</td>\n",
       "      <td>...</td>\n",
       "    </tr>\n",
       "    <tr>\n",
       "      <th>13715398</th>\n",
       "      <td>9606.ENSP00000501317</td>\n",
       "      <td>9606.ENSP00000360858</td>\n",
       "      <td>0</td>\n",
       "      <td>0</td>\n",
       "      <td>0</td>\n",
       "      <td>0</td>\n",
       "      <td>0</td>\n",
       "      <td>0</td>\n",
       "      <td>328</td>\n",
       "      <td>327</td>\n",
       "    </tr>\n",
       "    <tr>\n",
       "      <th>13715399</th>\n",
       "      <td>9606.ENSP00000501317</td>\n",
       "      <td>9606.ENSP00000475489</td>\n",
       "      <td>0</td>\n",
       "      <td>0</td>\n",
       "      <td>0</td>\n",
       "      <td>60</td>\n",
       "      <td>99</td>\n",
       "      <td>0</td>\n",
       "      <td>126</td>\n",
       "      <td>195</td>\n",
       "    </tr>\n",
       "    <tr>\n",
       "      <th>13715400</th>\n",
       "      <td>9606.ENSP00000501317</td>\n",
       "      <td>9606.ENSP00000370447</td>\n",
       "      <td>0</td>\n",
       "      <td>0</td>\n",
       "      <td>0</td>\n",
       "      <td>55</td>\n",
       "      <td>111</td>\n",
       "      <td>0</td>\n",
       "      <td>79</td>\n",
       "      <td>158</td>\n",
       "    </tr>\n",
       "    <tr>\n",
       "      <th>13715401</th>\n",
       "      <td>9606.ENSP00000501317</td>\n",
       "      <td>9606.ENSP00000312272</td>\n",
       "      <td>0</td>\n",
       "      <td>0</td>\n",
       "      <td>0</td>\n",
       "      <td>0</td>\n",
       "      <td>0</td>\n",
       "      <td>0</td>\n",
       "      <td>227</td>\n",
       "      <td>226</td>\n",
       "    </tr>\n",
       "    <tr>\n",
       "      <th>13715403</th>\n",
       "      <td>9606.ENSP00000501317</td>\n",
       "      <td>9606.ENSP00000404074</td>\n",
       "      <td>0</td>\n",
       "      <td>0</td>\n",
       "      <td>0</td>\n",
       "      <td>49</td>\n",
       "      <td>63</td>\n",
       "      <td>0</td>\n",
       "      <td>227</td>\n",
       "      <td>251</td>\n",
       "    </tr>\n",
       "  </tbody>\n",
       "</table>\n",
       "<p>13337088 rows × 10 columns</p>\n",
       "</div>"
      ],
      "text/plain": [
       "                      protein1              protein2  neighborhood  fusion  \\\n",
       "0         9606.ENSP00000000233  9606.ENSP00000356607             0       0   \n",
       "1         9606.ENSP00000000233  9606.ENSP00000427567             0       0   \n",
       "2         9606.ENSP00000000233  9606.ENSP00000253413             0       0   \n",
       "3         9606.ENSP00000000233  9606.ENSP00000493357             0       0   \n",
       "4         9606.ENSP00000000233  9606.ENSP00000324127             0       0   \n",
       "...                        ...                   ...           ...     ...   \n",
       "13715398  9606.ENSP00000501317  9606.ENSP00000360858             0       0   \n",
       "13715399  9606.ENSP00000501317  9606.ENSP00000475489             0       0   \n",
       "13715400  9606.ENSP00000501317  9606.ENSP00000370447             0       0   \n",
       "13715401  9606.ENSP00000501317  9606.ENSP00000312272             0       0   \n",
       "13715403  9606.ENSP00000501317  9606.ENSP00000404074             0       0   \n",
       "\n",
       "          cooccurence  coexpression  experimental  database  textmining  \\\n",
       "0                   0            45           134         0          81   \n",
       "1                   0             0           128         0          70   \n",
       "2                   0           118            49         0          69   \n",
       "3                   0            56            53         0         457   \n",
       "4                   0             0            46         0         197   \n",
       "...               ...           ...           ...       ...         ...   \n",
       "13715398            0             0             0         0         328   \n",
       "13715399            0            60            99         0         126   \n",
       "13715400            0            55           111         0          79   \n",
       "13715401            0             0             0         0         227   \n",
       "13715403            0            49            63         0         227   \n",
       "\n",
       "          combined_score  \n",
       "0                    173  \n",
       "1                    154  \n",
       "2                    151  \n",
       "3                    471  \n",
       "4                    201  \n",
       "...                  ...  \n",
       "13715398             327  \n",
       "13715399             195  \n",
       "13715400             158  \n",
       "13715401             226  \n",
       "13715403             251  \n",
       "\n",
       "[13337088 rows x 10 columns]"
      ]
     },
     "execution_count": 6,
     "metadata": {},
     "output_type": "execute_result"
    }
   ],
   "source": [
    "data_full = pd.read_csv(protein_full_links_file_path, sep=\" \", header=0)\n",
    "data_full = data_full[data_full[\"protein1\"].isin(prots) & data_full[\"protein2\"].isin(prots)]\n",
    "data_full"
   ]
  },
  {
   "cell_type": "code",
   "execution_count": 7,
   "metadata": {},
   "outputs": [
    {
     "data": {
      "image/png": "[encoded data removed]",
      "text/plain": [
       "<Figure size 640x480 with 1 Axes>"
      ]
     },
     "metadata": {},
     "output_type": "display_data"
    }
   ],
   "source": [
    "# Create a histogram and get the patches\n",
    "counts, bins, patches = plt.hist(data_full['combined_score'], bins=10, bottom=list(range(0,1000,100)), range=(0,1000))\n",
    "\n",
    "# Set the title and labels\n",
    "plt.title('Number of entries in STRING DB')\n",
    "plt.xlabel('Confidence Score')\n",
    "plt.ylabel('Number of interactions')\n",
    "\n",
    "# Annotate histogram with the number of data points in each bin\n",
    "for count, bin, patch in zip(counts, bins, patches):\n",
    "    height = patch.get_height()\n",
    "    plt.text(bin, height, str(int(count)), va='bottom', fontsize=7.5)\n",
    "\n",
    "plt.show()"
   ]
  },
  {
   "cell_type": "code",
   "execution_count": 8,
   "id": "74a25843",
   "metadata": {},
   "outputs": [
    {
     "data": {
      "image/png": "[encoded data removed]",
      "text/plain": [
       "<Figure size 640x480 with 8 Axes>"
      ]
     },
     "metadata": {},
     "output_type": "display_data"
    }
   ],
   "source": [
    "fig, axs = plt.subplots(2, 4)\n",
    "axs[0, 0].hist(data_full['combined_score'],bins=10,bottom=list(range(0,1000,100)),range=(0,1000));\n",
    "axs[0, 0].set_title('Combined score', y=1.1)  # Increase the y parameter to move the title up\n",
    "axs[0, 1].hist(data_full['neighborhood'],bins=10,bottom=list(range(0,1000,100)),range=(0,1000));\n",
    "axs[0, 1].set_title('Conserved Neighbourhood', y=1.1)\n",
    "axs[0, 2].hist(data_full['fusion'],bins=10,bottom=list(range(0,1000,100)),range=(0,1000));\n",
    "axs[0, 2].set_title('Fusion', y=1.1)\n",
    "axs[0, 3].hist(data_full['cooccurence'],bins=10,bottom=list(range(0,1000,100)),range=(0,1000));\n",
    "axs[0, 3].set_title('Co-occurrence', y=1.1)\n",
    "axs[1, 0].hist(data_full['experimental'],bins=10,bottom=list(range(0,1000,100)),range=(0,1000));\n",
    "axs[1, 0].set_title('Experimental', y=1.1)\n",
    "axs[1, 1].hist(data_full['database'],bins=10,bottom=list(range(0,1000,100)),range=(0,1000));\n",
    "axs[1, 1].set_title('Database', y=1.1)\n",
    "axs[1, 2].hist(data_full['coexpression'],bins=10,bottom=list(range(0,1000,100)),range=(0,1000));\n",
    "axs[1, 2].set_title('Co-expression', y=1.1)\n",
    "axs[1, 3].hist(data_full['textmining'],bins=10,bottom=list(range(0,1000,100)),range=(0,1000));\n",
    "axs[1, 3].set_title('Text mining', y=1.1);\n",
    "\n",
    "plt.subplots_adjust(left=0.01, right=1.3, hspace=0.5)\n",
    "\n",
    "# Hide x labels and tick labels for top plots and y ticks for right plots.\n",
    "#for ax in axs.flat:\n",
    "#    ax.label_outer()"
   ]
  },
  {
   "cell_type": "markdown",
   "id": "ffed6b5e",
   "metadata": {},
   "source": [
    "# Creating thresholds"
   ]
  },
  {
   "cell_type": "code",
   "execution_count": 9,
   "id": "73950f11",
   "metadata": {},
   "outputs": [],
   "source": [
    "# Thresholds for the whole dataset\n",
    "\n",
    "# data8 = data_full.where(data_full['combined_score']>800).copy().dropna().reset_index(drop=True)\n",
    "# data6 = data_full.where(data_full['combined_score']>600).copy().dropna().reset_index(drop=True)\n",
    "# data4 = data_full.where(data_full['combined_score']>400).copy().dropna().reset_index(drop=True)\n",
    "# data2 = data_full.where(data_full['combined_score']>200).copy().dropna().reset_index(drop=True)\n",
    "# dataSample = data_full\n",
    "\n",
    "# Thresholds for fixed size sampling (1000 samples)\n",
    "\n",
    "data8 = data_full.where(data_full['combined_score']>800).copy().dropna().reset_index(drop=True).sample(n=1000, random_state=42)\n",
    "data6 = data_full.where(data_full['combined_score']>600).copy().dropna().reset_index(drop=True).sample(n=1000,random_state=42)\n",
    "data4 = data_full.where(data_full['combined_score']>400).copy().dropna().reset_index(drop=True).sample(n=1000,random_state=42)\n",
    "data2 = data_full.where(data_full['combined_score']>200).copy().dropna().reset_index(drop=True).sample(n=1000,random_state=42)\n",
    "dataSample = data_full.sample(n=1000,random_state=42)\n",
    "\n",
    "# Thresholds for fraction sampling (10% of the data)\n",
    "\n",
    "# data8 = data_full.where(data_full['combined_score']>800).copy().dropna().reset_index(drop=True).sample(frac=0.1, random_state=42)\n",
    "# data6 = data_full.where(data_full['combined_score']>600).copy().dropna().reset_index(drop=True).sample(frac=0.1,random_state=42)\n",
    "# data4 = data_full.where(data_full['combined_score']>400).copy().dropna().reset_index(drop=True).sample(frac=0.1,random_state=42)\n",
    "# data2 = data_full.where(data_full['combined_score']>200).copy().dropna().reset_index(drop=True).sample(frac=0.1,random_state=42)\n",
    "# dataSample = data_full.sample(frac=0.1,random_state=42)\n",
    "\n",
    "\n",
    "# Thresholds for uniform sampling\n",
    "\n",
    "# select = []\n",
    "# for N in range(1000):\n",
    "#    ind = int(N*len(data8)/1000)\n",
    "#    select.append(ind)\n",
    "# data8 = data8.loc[select]\n",
    "#select = []\n",
    "#for N in range(1000):\n",
    "#    ind = int(N*len(data6)/1000)\n",
    "#    select.append(ind)\n",
    "#data6 = data6.loc[select]\n",
    "#select = []\n",
    "#for N in range(1000):\n",
    "#    ind = int(N*len(data4)/1000)\n",
    "#    select.append(ind)\n",
    "#data4 = data4.loc[select]\n",
    "#select = []\n",
    "#for N in range(1000):\n",
    "#    ind = int(N*len(data8)/1000)\n",
    "#    select.append(ind)\n",
    "#data2 = data2.loc[select]\n",
    "#select = []\n",
    "#for N in range(1000):\n",
    "#    ind = int(N*len(dataSample)/1000)\n",
    "#    select.append(ind)\n",
    "#dataSample = dataSample.reset_index(drop=True).loc[select]"
   ]
  },
  {
   "cell_type": "markdown",
   "id": "9be4aee1",
   "metadata": {},
   "source": [
    "# Pipeline"
   ]
  },
  {
   "cell_type": "code",
   "execution_count": 10,
   "metadata": {},
   "outputs": [],
   "source": [
    "# Defining rdf2vec paramenters\n",
    "vector_size = 200\n",
    "n_walks = 100\n",
    "type_word2vec = 'skip-gram'\n",
    "walk_depth = 4\n",
    "walker_type = 'wl'\n",
    "sampler_type = 'uniform'\n",
    "\n",
    "# Creating a pyrdf2vec graph\n",
    "g_pyrdf2vec = kg.KG(mul_req=False)\n",
    "for (s, p, o) in g:\n",
    "    s_v = Vertex(str(s))\n",
    "    o_v = Vertex(str(o))\n",
    "    p_v = Vertex(str(p), predicate=True, vprev=s_v, vnext=o_v)\n",
    "    g_pyrdf2vec.add_vertex(s_v)\n",
    "    g_pyrdf2vec.add_vertex(p_v)\n",
    "    g_pyrdf2vec.add_vertex(o_v)\n",
    "    g_pyrdf2vec.add_edge(s_v, p_v)\n",
    "    g_pyrdf2vec.add_edge(p_v, o_v)\n",
    "\n",
    "# Defining the word2vec strategy\n",
    "if type_word2vec == 'CBOW':\n",
    "    sg_value = 0\n",
    "elif type_word2vec == 'skip-gram':\n",
    "    sg_value = 1\n",
    "\n",
    "# Defining sampling strategy \n",
    "if sampler_type.lower() == 'uniform':\n",
    "    sampler = UniformSampler()\n",
    "elif sampler_type.lower() == 'predfreq':\n",
    "    sampler = PredFreqSampler()\n",
    "elif sampler_type.lower() == 'objfreq':\n",
    "    sampler = ObjFreqSampler()\n",
    "\n",
    "# Defining warker strategy\n",
    "if walker_type.lower() == 'random':\n",
    "    walker = RandomWalker(max_depth=walk_depth, max_walks=n_walks, sampler = sampler)\n",
    "elif walker_type.lower() == 'wl':\n",
    "    walker = WLWalker(max_depth=walk_depth, max_walks=n_walks, sampler = sampler)\n",
    "elif walker_type.lower() == 'walklet':\n",
    "    walker = WalkletWalker(max_depth=walk_depth, max_walks=n_walks, sampler = sampler)\n",
    "\n",
    "# Training RDF2Vec embeddings    \n",
    "transformer = RDF2VecTransformer(Word2Vec(vector_size=vector_size, sg=sg_value), walkers=[walker])"
   ]
  },
  {
   "cell_type": "markdown",
   "id": "15d51d23",
   "metadata": {},
   "source": [
    "# For data with higher Score than 800"
   ]
  },
  {
   "cell_type": "markdown",
   "id": "66b16e55",
   "metadata": {},
   "source": [
    "# Generating the Embeddings"
   ]
  },
  {
   "cell_type": "code",
   "execution_count": 11,
   "id": "58aa6e96",
   "metadata": {},
   "outputs": [],
   "source": [
    "prots = []\n",
    "\n",
    "for value in data8[\"protein1\"].values:\n",
    "    url_prot = 'https://string-db.org/network/' + value\n",
    "    if url_prot not in prots:\n",
    "        prots.append(url_prot)\n",
    "\n",
    "for value in data8[\"protein2\"].values:\n",
    "    url_prot = 'https://string-db.org/network/' + value\n",
    "    if url_prot not in prots:\n",
    "        prots.append(url_prot)\n",
    "\n",
    "#prots"
   ]
  },
  {
   "cell_type": "code",
   "execution_count": 12,
   "id": "142367c4",
   "metadata": {},
   "outputs": [
    {
     "ename": "KeyboardInterrupt",
     "evalue": "",
     "output_type": "error",
     "traceback": [
      "\u001b[0;31m---------------------------------------------------------------------------\u001b[0m",
      "\u001b[0;31mIndexError\u001b[0m                                Traceback (most recent call last)",
      "File \u001b[0;32m~/anaconda3/lib/python3.11/multiprocessing/pool.py:856\u001b[0m, in \u001b[0;36mIMapIterator.next\u001b[0;34m(self, timeout)\u001b[0m\n\u001b[1;32m    855\u001b[0m \u001b[39mtry\u001b[39;00m:\n\u001b[0;32m--> 856\u001b[0m     item \u001b[39m=\u001b[39m \u001b[39mself\u001b[39m\u001b[39m.\u001b[39m_items\u001b[39m.\u001b[39mpopleft()\n\u001b[1;32m    857\u001b[0m \u001b[39mexcept\u001b[39;00m \u001b[39mIndexError\u001b[39;00m:\n",
      "\u001b[0;31mIndexError\u001b[0m: pop from an empty deque",
      "\nDuring handling of the above exception, another exception occurred:\n",
      "\u001b[0;31mKeyboardInterrupt\u001b[0m                         Traceback (most recent call last)",
      "\u001b[1;32m/home/amendes/UncertaintyInML/newerTest/Test.ipynb Cell 22\u001b[0m line \u001b[0;36m1\n\u001b[0;32m----> <a href='vscode-notebook-cell://ssh-remote%2Blis3/home/amendes/UncertaintyInML/newerTest/Test.ipynb#X31sdnNjb2RlLXJlbW90ZQ%3D%3D?line=0'>1</a>\u001b[0m embeddings \u001b[39m=\u001b[39m transformer\u001b[39m.\u001b[39mfit_transform(g_pyrdf2vec, prots)\n\u001b[1;32m      <a href='vscode-notebook-cell://ssh-remote%2Blis3/home/amendes/UncertaintyInML/newerTest/Test.ipynb#X31sdnNjb2RlLXJlbW90ZQ%3D%3D?line=1'>2</a>\u001b[0m \u001b[39m# Saving embedding in a dictionary\u001b[39;00m\n\u001b[1;32m      <a href='vscode-notebook-cell://ssh-remote%2Blis3/home/amendes/UncertaintyInML/newerTest/Test.ipynb#X31sdnNjb2RlLXJlbW90ZQ%3D%3D?line=2'>3</a>\u001b[0m dict_embeddings \u001b[39m=\u001b[39m {prots[i]: embeddings[i] \u001b[39mfor\u001b[39;00m i \u001b[39min\u001b[39;00m \u001b[39mrange\u001b[39m(\u001b[39mlen\u001b[39m(prots))}\n",
      "File \u001b[0;32m~/UncertaintyInML/newerTest/pyrdf2vec/rdf2vec.py:146\u001b[0m, in \u001b[0;36mRDF2VecTransformer.fit_transform\u001b[0;34m(self, kg, entities, is_update)\u001b[0m\n\u001b[1;32m    129\u001b[0m \u001b[39m\u001b[39m\u001b[39m\"\"\"Creates a model and generates embeddings and literals for the\u001b[39;00m\n\u001b[1;32m    130\u001b[0m \u001b[39mprovided entities.\u001b[39;00m\n\u001b[1;32m    131\u001b[0m \n\u001b[0;32m   (...)\u001b[0m\n\u001b[1;32m    143\u001b[0m \n\u001b[1;32m    144\u001b[0m \u001b[39m\"\"\"\u001b[39;00m\n\u001b[1;32m    145\u001b[0m \u001b[39mself\u001b[39m\u001b[39m.\u001b[39m_is_extract_walks_literals \u001b[39m=\u001b[39m \u001b[39mTrue\u001b[39;00m\n\u001b[0;32m--> 146\u001b[0m \u001b[39mself\u001b[39m\u001b[39m.\u001b[39mfit(kg, entities, is_update)\n\u001b[1;32m    147\u001b[0m \u001b[39mreturn\u001b[39;00m \u001b[39mself\u001b[39m\u001b[39m.\u001b[39mtransform(kg, entities)\n",
      "File \u001b[0;32m~/UncertaintyInML/newerTest/pyrdf2vec/rdf2vec.py:107\u001b[0m, in \u001b[0;36mRDF2VecTransformer.fit\u001b[0;34m(self, kg, entities, is_update)\u001b[0m\n\u001b[1;32m    104\u001b[0m \u001b[39mif\u001b[39;00m \u001b[39mself\u001b[39m\u001b[39m.\u001b[39mverbose \u001b[39m==\u001b[39m \u001b[39m2\u001b[39m:\n\u001b[1;32m    105\u001b[0m     \u001b[39mprint\u001b[39m(\u001b[39mself\u001b[39m\u001b[39m.\u001b[39membedder)\n\u001b[0;32m--> 107\u001b[0m walks \u001b[39m=\u001b[39m \u001b[39mself\u001b[39m\u001b[39m.\u001b[39mget_walks(kg, entities)\n\u001b[1;32m    109\u001b[0m tic \u001b[39m=\u001b[39m time\u001b[39m.\u001b[39mperf_counter()\n\u001b[1;32m    110\u001b[0m \u001b[39mself\u001b[39m\u001b[39m.\u001b[39membedder\u001b[39m.\u001b[39mfit(walks, is_update)\n",
      "File \u001b[0;32m~/UncertaintyInML/newerTest/pyrdf2vec/rdf2vec.py:181\u001b[0m, in \u001b[0;36mRDF2VecTransformer.get_walks\u001b[0;34m(self, kg, entities)\u001b[0m\n\u001b[1;32m    179\u001b[0m tic \u001b[39m=\u001b[39m time\u001b[39m.\u001b[39mperf_counter()\n\u001b[1;32m    180\u001b[0m \u001b[39mfor\u001b[39;00m walker \u001b[39min\u001b[39;00m \u001b[39mself\u001b[39m\u001b[39m.\u001b[39mwalkers:\n\u001b[0;32m--> 181\u001b[0m     walks \u001b[39m+\u001b[39m\u001b[39m=\u001b[39m walker\u001b[39m.\u001b[39mextract(kg, entities, \u001b[39mself\u001b[39m\u001b[39m.\u001b[39mverbose)\n\u001b[1;32m    182\u001b[0m toc \u001b[39m=\u001b[39m time\u001b[39m.\u001b[39mperf_counter()\n\u001b[1;32m    184\u001b[0m \u001b[39mself\u001b[39m\u001b[39m.\u001b[39m_update(\u001b[39mself\u001b[39m\u001b[39m.\u001b[39m_entities, entities)\n",
      "File \u001b[0;32m~/UncertaintyInML/newerTest/pyrdf2vec/walkers/weisfeiler_lehman.py:153\u001b[0m, in \u001b[0;36mWLWalker.extract\u001b[0;34m(self, kg, entities, verbose)\u001b[0m\n\u001b[1;32m    134\u001b[0m \u001b[39m\u001b[39m\u001b[39m\"\"\"Fits the provided sampling strategy and then calls the\u001b[39;00m\n\u001b[1;32m    135\u001b[0m \u001b[39mprivate _extract method that is implemented for each of the\u001b[39;00m\n\u001b[1;32m    136\u001b[0m \u001b[39mwalking strategies.\u001b[39;00m\n\u001b[0;32m   (...)\u001b[0m\n\u001b[1;32m    150\u001b[0m \n\u001b[1;32m    151\u001b[0m \u001b[39m\"\"\"\u001b[39;00m\n\u001b[1;32m    152\u001b[0m \u001b[39mself\u001b[39m\u001b[39m.\u001b[39m_weisfeiler_lehman(kg)\n\u001b[0;32m--> 153\u001b[0m \u001b[39mreturn\u001b[39;00m \u001b[39msuper\u001b[39m()\u001b[39m.\u001b[39mextract(kg, entities, verbose)\n",
      "File \u001b[0;32m~/UncertaintyInML/newerTest/pyrdf2vec/walkers/walker.py:159\u001b[0m, in \u001b[0;36mWalker.extract\u001b[0;34m(self, kg, entities, verbose)\u001b[0m\n\u001b[1;32m    156\u001b[0m \u001b[39mself\u001b[39m\u001b[39m.\u001b[39m_entities \u001b[39m|\u001b[39m\u001b[39m=\u001b[39m \u001b[39mset\u001b[39m(entities)\n\u001b[1;32m    158\u001b[0m \u001b[39mwith\u001b[39;00m multiprocessing\u001b[39m.\u001b[39mPool(process, \u001b[39mself\u001b[39m\u001b[39m.\u001b[39m_init_worker, [kg]) \u001b[39mas\u001b[39;00m pool:\n\u001b[0;32m--> 159\u001b[0m     res \u001b[39m=\u001b[39m \u001b[39mlist\u001b[39m(\n\u001b[1;32m    160\u001b[0m         tqdm(\n\u001b[1;32m    161\u001b[0m             pool\u001b[39m.\u001b[39mimap(\u001b[39mself\u001b[39m\u001b[39m.\u001b[39m_proc, entities),\n\u001b[1;32m    162\u001b[0m             total\u001b[39m=\u001b[39m\u001b[39mlen\u001b[39m(entities),\n\u001b[1;32m    163\u001b[0m             disable\u001b[39m=\u001b[39m\u001b[39mTrue\u001b[39;00m \u001b[39mif\u001b[39;00m verbose \u001b[39m==\u001b[39m \u001b[39m0\u001b[39m \u001b[39melse\u001b[39;00m \u001b[39mFalse\u001b[39;00m,\n\u001b[1;32m    164\u001b[0m         )\n\u001b[1;32m    165\u001b[0m     )\n\u001b[1;32m    166\u001b[0m \u001b[39mreturn\u001b[39;00m \u001b[39mself\u001b[39m\u001b[39m.\u001b[39m_post_extract(res)\n",
      "File \u001b[0;32m~/anaconda3/lib/python3.11/site-packages/tqdm/std.py:1170\u001b[0m, in \u001b[0;36mtqdm.__iter__\u001b[0;34m(self)\u001b[0m\n\u001b[1;32m   1167\u001b[0m \u001b[39m# If the bar is disabled, then just walk the iterable\u001b[39;00m\n\u001b[1;32m   1168\u001b[0m \u001b[39m# (note: keep this check outside the loop for performance)\u001b[39;00m\n\u001b[1;32m   1169\u001b[0m \u001b[39mif\u001b[39;00m \u001b[39mself\u001b[39m\u001b[39m.\u001b[39mdisable:\n\u001b[0;32m-> 1170\u001b[0m     \u001b[39mfor\u001b[39;00m obj \u001b[39min\u001b[39;00m iterable:\n\u001b[1;32m   1171\u001b[0m         \u001b[39myield\u001b[39;00m obj\n\u001b[1;32m   1172\u001b[0m     \u001b[39mreturn\u001b[39;00m\n",
      "File \u001b[0;32m~/anaconda3/lib/python3.11/multiprocessing/pool.py:861\u001b[0m, in \u001b[0;36mIMapIterator.next\u001b[0;34m(self, timeout)\u001b[0m\n\u001b[1;32m    859\u001b[0m     \u001b[39mself\u001b[39m\u001b[39m.\u001b[39m_pool \u001b[39m=\u001b[39m \u001b[39mNone\u001b[39;00m\n\u001b[1;32m    860\u001b[0m     \u001b[39mraise\u001b[39;00m \u001b[39mStopIteration\u001b[39;00m \u001b[39mfrom\u001b[39;00m \u001b[39mNone\u001b[39;00m\n\u001b[0;32m--> 861\u001b[0m \u001b[39mself\u001b[39m\u001b[39m.\u001b[39m_cond\u001b[39m.\u001b[39mwait(timeout)\n\u001b[1;32m    862\u001b[0m \u001b[39mtry\u001b[39;00m:\n\u001b[1;32m    863\u001b[0m     item \u001b[39m=\u001b[39m \u001b[39mself\u001b[39m\u001b[39m.\u001b[39m_items\u001b[39m.\u001b[39mpopleft()\n",
      "File \u001b[0;32m~/anaconda3/lib/python3.11/threading.py:320\u001b[0m, in \u001b[0;36mCondition.wait\u001b[0;34m(self, timeout)\u001b[0m\n\u001b[1;32m    318\u001b[0m \u001b[39mtry\u001b[39;00m:    \u001b[39m# restore state no matter what (e.g., KeyboardInterrupt)\u001b[39;00m\n\u001b[1;32m    319\u001b[0m     \u001b[39mif\u001b[39;00m timeout \u001b[39mis\u001b[39;00m \u001b[39mNone\u001b[39;00m:\n\u001b[0;32m--> 320\u001b[0m         waiter\u001b[39m.\u001b[39macquire()\n\u001b[1;32m    321\u001b[0m         gotit \u001b[39m=\u001b[39m \u001b[39mTrue\u001b[39;00m\n\u001b[1;32m    322\u001b[0m     \u001b[39melse\u001b[39;00m:\n",
      "\u001b[0;31mKeyboardInterrupt\u001b[0m: "
     ]
    }
   ],
   "source": [
    "\n",
    "embeddings = transformer.fit_transform(g_pyrdf2vec, prots)\n",
    "# Saving embedding in a dictionary\n",
    "dict_embeddings = {prots[i]: embeddings[i] for i in range(len(prots))}\n",
    "#print(dict_embeddings)"
   ]
  },
  {
   "cell_type": "code",
   "execution_count": null,
   "id": "3737d96d",
   "metadata": {},
   "outputs": [
    {
     "data": {
      "text/plain": [
       "31923"
      ]
     },
     "execution_count": 13,
     "metadata": {},
     "output_type": "execute_result"
    }
   ],
   "source": [
    "pairs_prots = []\n",
    "for d in data8.values:\n",
    "    pairs_prots.append(('https://string-db.org/network/' + d[0],'https://string-db.org/network/' + d[1], 1))\n",
    "\n",
    "pairs_prots = set(pairs_prots)\n",
    "len(pairs_prots)"
   ]
  },
  {
   "cell_type": "code",
   "execution_count": null,
   "id": "cc472ba5",
   "metadata": {},
   "outputs": [
    {
     "data": {
      "text/plain": [
       "31923"
      ]
     },
     "execution_count": 14,
     "metadata": {},
     "output_type": "execute_result"
    }
   ],
   "source": [
    "negative_pairs_prots = []\n",
    "for prot in prots:\n",
    "    for prot2 in prots:\n",
    "        if (prot,prot2,1) in pairs_prots:\n",
    "            continue\n",
    "        elif prot != prot2:\n",
    "            negative_pairs_prots.append((prot,prot2,0))\n",
    "\n",
    "negative_pairs_prots = random.sample(negative_pairs_prots, len(pairs_prots))\n",
    "len(negative_pairs_prots)"
   ]
  },
  {
   "cell_type": "code",
   "execution_count": null,
   "id": "ff51bffc",
   "metadata": {},
   "outputs": [],
   "source": [
    "# Generating pair representations using haddamard operator # other possibilities are concatenation, wl-1 or wl-2\n",
    "X, y = [], []\n",
    "for prot1, prot2, label in pairs_prots:\n",
    "    emb_prot1 = dict_embeddings[prot1].reshape(1, vector_size)\n",
    "    emb_prot2 = dict_embeddings[prot2].reshape(1, vector_size)\n",
    "    hada = np.multiply(emb_prot1, emb_prot2)\n",
    "    X.append(hada.tolist()[0])\n",
    "    y.append(int(label))\n",
    "\n",
    "for prot1, prot2, label in negative_pairs_prots:\n",
    "    emb_prot1 = dict_embeddings[prot1].reshape(1, vector_size)\n",
    "    emb_prot2 = dict_embeddings[prot2].reshape(1, vector_size)\n",
    "    hada = np.multiply(emb_prot1, emb_prot2)\n",
    "    X.append(hada.tolist()[0])\n",
    "    y.append(int(label))"
   ]
  },
  {
   "cell_type": "code",
   "execution_count": null,
   "id": "37523c77",
   "metadata": {},
   "outputs": [
    {
     "name": "stdout",
     "output_type": "stream",
     "text": [
      "Weighted Average F-measure = 0.8240076745851219\n"
     ]
    }
   ],
   "source": [
    "f1_8 = []\n",
    "\n",
    "# Creating training set and test set\n",
    "sss = StratifiedShuffleSplit(n_splits=10, random_state=42)\n",
    "X, y = np.array(X), np.array(y)\n",
    "for train_index, test_index in sss.split(X, y):\n",
    "    X_train, X_test = X[train_index], X[test_index]\n",
    "    y_train, y_test = y[train_index], y[test_index]\n",
    "#X_train, X_test, y_train, y_test = train_test_split(X, y, test_size=0.3, random_state=42, shuffle=True)\n",
    "\n",
    "    # Training Random Forest classifier\n",
    "    rf_model = RandomForestClassifier()\n",
    "    rf_model.fit(X_train, y_train)\n",
    "\n",
    "    # Obtaining predictions\n",
    "    pred_test = rf_model.predict(X_test)\n",
    "\n",
    "    # Computing performance metrics\n",
    "    #f1_noninteract, f1_interact = metrics.f1_score(y_test, pred_test, average=None)\n",
    "    weighted_avg_f1 = metrics.f1_score(y_test, pred_test, average='weighted')\n",
    "    #precision = metrics.precision_score(y_test, pred_test)\n",
    "    #recall = metrics.recall_score(y_test, pred_test)\n",
    "    #accuracy = metrics.accuracy_score(y_test, pred_test)\n",
    "    f1_8.append(weighted_avg_f1)\n",
    "\n",
    "# Printing performance metrics\n",
    "#print('Performance metrics:')\n",
    "#print('F-measure (class 1) = ' + str(f1_interact))\n",
    "#print('F-measure (class 0) = ' + str(f1_noninteract))\n",
    "print('Weighted Average F-measure = ' + str(np.mean(f1_8)))\n",
    "#print('Precision = ' + str(precision))\n",
    "#print('Recall = ' + str(recall))\n",
    "#print('Accuracy = ' + str(accuracy))"
   ]
  },
  {
   "cell_type": "markdown",
   "id": "a163ee51",
   "metadata": {},
   "source": [
    "# For data with higher Score than 600"
   ]
  },
  {
   "cell_type": "markdown",
   "id": "b5bc811b",
   "metadata": {},
   "source": [
    "# Generating the Embeddings"
   ]
  },
  {
   "cell_type": "code",
   "execution_count": null,
   "id": "f7f9bd0a",
   "metadata": {},
   "outputs": [],
   "source": [
    "prots = []\n",
    "\n",
    "for value in data6[\"protein1\"].values:\n",
    "    url_prot = 'https://string-db.org/network/' + value\n",
    "    if url_prot not in prots:\n",
    "        prots.append(url_prot)\n",
    "\n",
    "for value in data6[\"protein2\"].values:\n",
    "    url_prot = 'https://string-db.org/network/' + value\n",
    "    if url_prot not in prots:\n",
    "        prots.append(url_prot)\n",
    "\n",
    "#prots"
   ]
  },
  {
   "cell_type": "code",
   "execution_count": null,
   "id": "77efcda2",
   "metadata": {},
   "outputs": [],
   "source": [
    "embeddings = transformer.fit_transform(g_pyrdf2vec, prots)\n",
    "# Saving embedding in a dictionary\n",
    "dict_embeddings = {prots[i]: embeddings[i] for i in range(len(prots))}\n",
    "#print(dict_embeddings)"
   ]
  },
  {
   "cell_type": "code",
   "execution_count": null,
   "id": "6849e4ae",
   "metadata": {},
   "outputs": [
    {
     "data": {
      "text/plain": [
       "70836"
      ]
     },
     "execution_count": 19,
     "metadata": {},
     "output_type": "execute_result"
    }
   ],
   "source": [
    "pairs_prots = []\n",
    "for d in data6.values:\n",
    "    pairs_prots.append(('https://string-db.org/network/' + d[0],'https://string-db.org/network/' + d[1], 1))\n",
    "\n",
    "pairs_prots = set(pairs_prots)\n",
    "len(pairs_prots)"
   ]
  },
  {
   "cell_type": "code",
   "execution_count": null,
   "id": "d13aec9f",
   "metadata": {},
   "outputs": [],
   "source": [
    "negative_pairs_prots = []\n",
    "for prot in prots:\n",
    "    for prot2 in prots:\n",
    "        if (prot,prot2,1) in pairs_prots:\n",
    "            continue\n",
    "        elif prot != prot2:\n",
    "            negative_pairs_prots.append((prot,prot2,0))\n",
    "\n",
    "negative_pairs_prots = random.sample(negative_pairs_prots, len(pairs_prots))"
   ]
  },
  {
   "cell_type": "code",
   "execution_count": null,
   "id": "ba9e7408",
   "metadata": {},
   "outputs": [],
   "source": [
    "# Generating pair representations using haddamard operator # other possibilities are concatenation, wl-1 or wl-2\n",
    "X, y = [], []\n",
    "for prot1, prot2, label in pairs_prots:\n",
    "    emb_prot1 = dict_embeddings[prot1].reshape(1, vector_size)\n",
    "    emb_prot2 = dict_embeddings[prot2].reshape(1, vector_size)\n",
    "    hada = np.multiply(emb_prot1, emb_prot2)\n",
    "    X.append(hada.tolist()[0])\n",
    "    y.append(int(label))\n",
    "\n",
    "for prot1, prot2, label in negative_pairs_prots:\n",
    "    emb_prot1 = dict_embeddings[prot1].reshape(1, vector_size)\n",
    "    emb_prot2 = dict_embeddings[prot2].reshape(1, vector_size)\n",
    "    hada = np.multiply(emb_prot1, emb_prot2)\n",
    "    X.append(hada.tolist()[0])\n",
    "    y.append(int(label))\n"
   ]
  },
  {
   "cell_type": "code",
   "execution_count": null,
   "id": "e6961ef1",
   "metadata": {},
   "outputs": [
    {
     "name": "stdout",
     "output_type": "stream",
     "text": [
      "Weighted Average F-measure = 0.8161339688441045\n"
     ]
    }
   ],
   "source": [
    "f1_6 = []\n",
    "\n",
    "# Creating training set and test set\n",
    "sss = StratifiedShuffleSplit(n_splits=10, random_state=42)\n",
    "X, y = np.array(X), np.array(y)\n",
    "for train_index, test_index in sss.split(X, y):\n",
    "    X_train, X_test = X[train_index], X[test_index]\n",
    "    y_train, y_test = y[train_index], y[test_index]\n",
    "#X_train, X_test, y_train, y_test = train_test_split(X, y, test_size=0.3, random_state=42, shuffle=True)\n",
    "\n",
    "    # Training Random Forest classifier\n",
    "    rf_model = RandomForestClassifier()\n",
    "    rf_model.fit(X_train, y_train)\n",
    "\n",
    "    # Obtaining predictions\n",
    "    pred_test = rf_model.predict(X_test)\n",
    "\n",
    "    # Computing performance metrics\n",
    "    #f1_noninteract, f1_interact = metrics.f1_score(y_test, pred_test, average=None)\n",
    "    weighted_avg_f1 = metrics.f1_score(y_test, pred_test, average='weighted')\n",
    "    #precision = metrics.precision_score(y_test, pred_test)\n",
    "    #recall = metrics.recall_score(y_test, pred_test)\n",
    "    #accuracy = metrics.accuracy_score(y_test, pred_test)\n",
    "    f1_6.append(weighted_avg_f1)\n",
    "\n",
    "# Printing performance metrics\n",
    "#print('Performance metrics:')\n",
    "#print('F-measure (class 1) = ' + str(f1_interact))\n",
    "#print('F-measure (class 0) = ' + str(f1_noninteract))\n",
    "print('Weighted Average F-measure = ' + str(np.mean(f1_6)))\n",
    "#print('Precision = ' + str(precision))\n",
    "#print('Recall = ' + str(recall))\n",
    "#print('Accuracy = ' + str(accuracy))"
   ]
  },
  {
   "cell_type": "markdown",
   "id": "23adb2c8",
   "metadata": {},
   "source": [
    "# For data with higher Score than 400"
   ]
  },
  {
   "cell_type": "markdown",
   "id": "bcd665a5",
   "metadata": {},
   "source": [
    "# Generating the Embeddings"
   ]
  },
  {
   "cell_type": "code",
   "execution_count": null,
   "id": "f7a68ce5",
   "metadata": {},
   "outputs": [],
   "source": [
    "prots = []\n",
    "\n",
    "for value in data4[\"protein1\"].values:\n",
    "    url_prot = 'https://string-db.org/network/' + value\n",
    "    if url_prot not in prots:\n",
    "        prots.append(url_prot)\n",
    "\n",
    "for value in data4[\"protein2\"].values:\n",
    "    url_prot = 'https://string-db.org/network/' + value\n",
    "    if url_prot not in prots:\n",
    "        prots.append(url_prot)\n",
    "\n",
    "#prots"
   ]
  },
  {
   "cell_type": "code",
   "execution_count": null,
   "id": "222e3244",
   "metadata": {},
   "outputs": [],
   "source": [
    "embeddings = transformer.fit_transform(g_pyrdf2vec, prots)\n",
    "# Saving embedding in a dictionary\n",
    "dict_embeddings = {prots[i]: embeddings[i] for i in range(len(prots))}\n",
    "#print(dict_embeddings)"
   ]
  },
  {
   "cell_type": "code",
   "execution_count": null,
   "id": "ca96370b",
   "metadata": {},
   "outputs": [
    {
     "data": {
      "text/plain": [
       "180340"
      ]
     },
     "execution_count": 25,
     "metadata": {},
     "output_type": "execute_result"
    }
   ],
   "source": [
    "pairs_prots = []\n",
    "for d in data4.values:\n",
    "    pairs_prots.append(('https://string-db.org/network/' + d[0],'https://string-db.org/network/' + d[1], 1))\n",
    "\n",
    "pairs_prots = set(pairs_prots)\n",
    "len(pairs_prots)"
   ]
  },
  {
   "cell_type": "code",
   "execution_count": null,
   "id": "01f3d320",
   "metadata": {},
   "outputs": [],
   "source": [
    "negative_pairs_prots = []\n",
    "for prot in prots:\n",
    "    for prot2 in prots:\n",
    "        if (prot,prot2,1) in pairs_prots:\n",
    "            continue\n",
    "        elif prot != prot2:\n",
    "            negative_pairs_prots.append((prot,prot2,0))\n",
    "\n",
    "negative_pairs_prots = random.sample(negative_pairs_prots, len(pairs_prots))"
   ]
  },
  {
   "cell_type": "code",
   "execution_count": null,
   "id": "5d05671e",
   "metadata": {},
   "outputs": [],
   "source": [
    "# Generating pair representations using haddamard operator # other possibilities are concatenation, wl-1 or wl-2\n",
    "X, y = [], []\n",
    "for prot1, prot2, label in pairs_prots:\n",
    "    emb_prot1 = dict_embeddings[prot1].reshape(1, vector_size)\n",
    "    emb_prot2 = dict_embeddings[prot2].reshape(1, vector_size)\n",
    "    hada = np.multiply(emb_prot1, emb_prot2)\n",
    "    X.append(hada.tolist()[0])\n",
    "    y.append(int(label))\n",
    "\n",
    "for prot1, prot2, label in negative_pairs_prots:\n",
    "    emb_prot1 = dict_embeddings[prot1].reshape(1, vector_size)\n",
    "    emb_prot2 = dict_embeddings[prot2].reshape(1, vector_size)\n",
    "    hada = np.multiply(emb_prot1, emb_prot2)\n",
    "    X.append(hada.tolist()[0])\n",
    "    y.append(int(label))\n"
   ]
  },
  {
   "cell_type": "code",
   "execution_count": null,
   "id": "9740f57e",
   "metadata": {},
   "outputs": [
    {
     "name": "stdout",
     "output_type": "stream",
     "text": [
      "Weighted Average F-measure = 0.7864429723713017\n"
     ]
    }
   ],
   "source": [
    "f1_4 = []\n",
    "\n",
    "# Creating training set and test set\n",
    "sss = StratifiedShuffleSplit(n_splits=10, random_state=42)\n",
    "X, y = np.array(X), np.array(y)\n",
    "for train_index, test_index in sss.split(X, y):\n",
    "    X_train, X_test = X[train_index], X[test_index]\n",
    "    y_train, y_test = y[train_index], y[test_index]\n",
    "#X_train, X_test, y_train, y_test = train_test_split(X, y, test_size=0.3, random_state=42, shuffle=True)\n",
    "\n",
    "    # Training Random Forest classifier\n",
    "    rf_model = RandomForestClassifier()\n",
    "    rf_model.fit(X_train, y_train)\n",
    "\n",
    "    # Obtaining predictions\n",
    "    pred_test = rf_model.predict(X_test)\n",
    "\n",
    "    # Computing performance metrics\n",
    "    #f1_noninteract, f1_interact = metrics.f1_score(y_test, pred_test, average=None)\n",
    "    weighted_avg_f1 = metrics.f1_score(y_test, pred_test, average='weighted')\n",
    "    #precision = metrics.precision_score(y_test, pred_test)\n",
    "    #recall = metrics.recall_score(y_test, pred_test)\n",
    "    #accuracy = metrics.accuracy_score(y_test, pred_test)\n",
    "    f1_4.append(weighted_avg_f1)\n",
    "\n",
    "# Printing performance metrics\n",
    "#print('Performance metrics:')\n",
    "#print('F-measure (class 1) = ' + str(f1_interact))\n",
    "#print('F-measure (class 0) = ' + str(f1_noninteract))\n",
    "print('Weighted Average F-measure = ' + str(np.mean(f1_4)))\n",
    "#print('Precision = ' + str(precision))\n",
    "#print('Recall = ' + str(recall))\n",
    "#print('Accuracy = ' + str(accuracy))"
   ]
  },
  {
   "cell_type": "markdown",
   "id": "3261d49a",
   "metadata": {},
   "source": [
    "# For data with higher Score than 200"
   ]
  },
  {
   "cell_type": "markdown",
   "id": "ff94a858",
   "metadata": {},
   "source": [
    "# Generating the Embeddings"
   ]
  },
  {
   "cell_type": "code",
   "execution_count": null,
   "id": "650a4290",
   "metadata": {},
   "outputs": [],
   "source": [
    "prots = []\n",
    "\n",
    "for value in data2[\"protein1\"].values:\n",
    "    url_prot = 'https://string-db.org/network/' + value\n",
    "    if url_prot not in prots:\n",
    "        prots.append(url_prot)\n",
    "\n",
    "for value in data2[\"protein2\"].values:\n",
    "    url_prot = 'https://string-db.org/network/' + value\n",
    "    if url_prot not in prots:\n",
    "        prots.append(url_prot)\n",
    "\n",
    "#prots"
   ]
  },
  {
   "cell_type": "code",
   "execution_count": null,
   "id": "b33b0130",
   "metadata": {},
   "outputs": [],
   "source": [
    "embeddings = transformer.fit_transform(g_pyrdf2vec, prots)\n",
    "# Saving embedding in a dictionary\n",
    "dict_embeddings = {prots[i]: embeddings[i] for i in range(len(prots))}\n",
    "#print(dict_embeddings)"
   ]
  },
  {
   "cell_type": "code",
   "execution_count": null,
   "id": "de90a279",
   "metadata": {},
   "outputs": [
    {
     "data": {
      "text/plain": [
       "726173"
      ]
     },
     "execution_count": 31,
     "metadata": {},
     "output_type": "execute_result"
    }
   ],
   "source": [
    "pairs_prots = []\n",
    "for d in data2.values:\n",
    "    pairs_prots.append(('https://string-db.org/network/' + d[0],'https://string-db.org/network/' + d[1], 1))\n",
    "\n",
    "pairs_prots = set(pairs_prots)\n",
    "len(pairs_prots)"
   ]
  },
  {
   "cell_type": "code",
   "execution_count": null,
   "id": "d227e305",
   "metadata": {},
   "outputs": [],
   "source": [
    "negative_pairs_prots = []\n",
    "for prot in prots:\n",
    "    for prot2 in prots:\n",
    "        if (prot,prot2,1) in pairs_prots:\n",
    "            continue\n",
    "        elif prot != prot2:\n",
    "            negative_pairs_prots.append((prot,prot2,0))\n",
    "\n",
    "negative_pairs_prots = random.sample(negative_pairs_prots, len(pairs_prots))"
   ]
  },
  {
   "cell_type": "code",
   "execution_count": null,
   "id": "a5af1620",
   "metadata": {},
   "outputs": [],
   "source": [
    "# Generating pair representations using haddamard operator # other possibilities are concatenation, wl-1 or wl-2\n",
    "X, y = [], []\n",
    "for prot1, prot2, label in pairs_prots:\n",
    "    emb_prot1 = dict_embeddings[prot1].reshape(1, vector_size)\n",
    "    emb_prot2 = dict_embeddings[prot2].reshape(1, vector_size)\n",
    "    hada = np.multiply(emb_prot1, emb_prot2)\n",
    "    X.append(hada.tolist()[0])\n",
    "    y.append(int(label))\n",
    "\n",
    "for prot1, prot2, label in negative_pairs_prots:\n",
    "    emb_prot1 = dict_embeddings[prot1].reshape(1, vector_size)\n",
    "    emb_prot2 = dict_embeddings[prot2].reshape(1, vector_size)\n",
    "    hada = np.multiply(emb_prot1, emb_prot2)\n",
    "    X.append(hada.tolist()[0])\n",
    "    y.append(int(label))"
   ]
  },
  {
   "cell_type": "code",
   "execution_count": null,
   "id": "a1c5bcbc",
   "metadata": {},
   "outputs": [
    {
     "name": "stdout",
     "output_type": "stream",
     "text": [
      "Weighted Average F-measure = 0.7208780893356426\n"
     ]
    }
   ],
   "source": [
    "f1_2 = []\n",
    "\n",
    "# Creating training set and test set\n",
    "sss = StratifiedShuffleSplit(n_splits=10, random_state=42)\n",
    "X, y = np.array(X), np.array(y)\n",
    "for train_index, test_index in sss.split(X, y):\n",
    "    X_train, X_test = X[train_index], X[test_index]\n",
    "    y_train, y_test = y[train_index], y[test_index]\n",
    "#X_train, X_test, y_train, y_test = train_test_split(X, y, test_size=0.3, random_state=42, shuffle=True)\n",
    "\n",
    "    # Training Random Forest classifier\n",
    "    rf_model = RandomForestClassifier()\n",
    "    rf_model.fit(X_train, y_train)\n",
    "\n",
    "    # Obtaining predictions\n",
    "    pred_test = rf_model.predict(X_test)\n",
    "\n",
    "    # Computing performance metrics\n",
    "    #f1_noninteract, f1_interact = metrics.f1_score(y_test, pred_test, average=None)\n",
    "    weighted_avg_f1 = metrics.f1_score(y_test, pred_test, average='weighted')\n",
    "    #precision = metrics.precision_score(y_test, pred_test)\n",
    "    #recall = metrics.recall_score(y_test, pred_test)\n",
    "    #accuracy = metrics.accuracy_score(y_test, pred_test)\n",
    "    f1_2.append(weighted_avg_f1)\n",
    "\n",
    "# Printing performance metrics\n",
    "#print('Performance metrics:')\n",
    "#print('F-measure (class 1) = ' + str(f1_interact))\n",
    "#print('F-measure (class 0) = ' + str(f1_noninteract))\n",
    "print('Weighted Average F-measure = ' + str(np.mean(f1_2)))\n",
    "#print('Precision = ' + str(precision))\n",
    "#print('Recall = ' + str(recall))\n",
    "#print('Accuracy = ' + str(accuracy))"
   ]
  },
  {
   "cell_type": "markdown",
   "id": "2c412254",
   "metadata": {},
   "source": [
    "# For data with higher Score than 0"
   ]
  },
  {
   "cell_type": "markdown",
   "id": "91b56b46",
   "metadata": {},
   "source": [
    "# Generating the Embeddings"
   ]
  },
  {
   "cell_type": "code",
   "execution_count": null,
   "id": "997c0c5b",
   "metadata": {},
   "outputs": [],
   "source": [
    "prots = []\n",
    "\n",
    "for value in dataSample[\"protein1\"].values:\n",
    "    url_prot = 'https://string-db.org/network/' + value\n",
    "    if url_prot not in prots:\n",
    "        prots.append(url_prot)\n",
    "\n",
    "for value in dataSample[\"protein2\"].values:\n",
    "    url_prot = 'https://string-db.org/network/' + value\n",
    "    if url_prot not in prots:\n",
    "        prots.append(url_prot)\n",
    "\n",
    "#prots"
   ]
  },
  {
   "cell_type": "code",
   "execution_count": null,
   "id": "f889ff66",
   "metadata": {},
   "outputs": [],
   "source": [
    "embeddings = transformer.fit_transform(g_pyrdf2vec, prots)\n",
    "# Saving embedding in a dictionary\n",
    "dict_embeddings = {prots[i]: embeddings[i] for i in range(len(prots))}\n",
    "#print(dict_embeddings)"
   ]
  },
  {
   "cell_type": "code",
   "execution_count": null,
   "id": "a0aa9566",
   "metadata": {},
   "outputs": [
    {
     "data": {
      "text/plain": [
       "1333709"
      ]
     },
     "execution_count": 37,
     "metadata": {},
     "output_type": "execute_result"
    }
   ],
   "source": [
    "pairs_prots = []\n",
    "for d in dataSample.values:\n",
    "    pairs_prots.append(('https://string-db.org/network/' + d[0],'https://string-db.org/network/' + d[1], 1))\n",
    "\n",
    "pairs_prots = set(pairs_prots)\n",
    "len(pairs_prots)"
   ]
  },
  {
   "cell_type": "code",
   "execution_count": null,
   "id": "b4d69385",
   "metadata": {},
   "outputs": [],
   "source": [
    "negative_pairs_prots = []\n",
    "for prot in prots:\n",
    "    for prot2 in prots:\n",
    "        if (prot,prot2,1) in pairs_prots:\n",
    "            continue\n",
    "        elif prot != prot2:\n",
    "            negative_pairs_prots.append((prot,prot2,0))\n",
    "\n",
    "negative_pairs_prots = random.sample(negative_pairs_prots, len(pairs_prots))"
   ]
  },
  {
   "cell_type": "code",
   "execution_count": null,
   "id": "2457b562",
   "metadata": {},
   "outputs": [],
   "source": [
    "# Generating pair representations using haddamard operator # other possibilities are concatenation, wl-1 or wl-2\n",
    "X, y = [], []\n",
    "for prot1, prot2, label in pairs_prots:\n",
    "    emb_prot1 = dict_embeddings[prot1].reshape(1, vector_size)\n",
    "    emb_prot2 = dict_embeddings[prot2].reshape(1, vector_size)\n",
    "    hada = np.multiply(emb_prot1, emb_prot2)\n",
    "    X.append(hada.tolist()[0])\n",
    "    y.append(int(label))\n",
    "\n",
    "for prot1, prot2, label in negative_pairs_prots:\n",
    "    emb_prot1 = dict_embeddings[prot1].reshape(1, vector_size)\n",
    "    emb_prot2 = dict_embeddings[prot2].reshape(1, vector_size)\n",
    "    hada = np.multiply(emb_prot1, emb_prot2)\n",
    "    X.append(hada.tolist()[0])\n",
    "    y.append(int(label))"
   ]
  },
  {
   "cell_type": "code",
   "execution_count": null,
   "id": "4a949d37",
   "metadata": {},
   "outputs": [
    {
     "name": "stdout",
     "output_type": "stream",
     "text": [
      "Weighted Average F-measure = 0.6924617639282302\n"
     ]
    }
   ],
   "source": [
    "f1_0 = []\n",
    "\n",
    "# Creating training set and test set\n",
    "sss = StratifiedShuffleSplit(n_splits=10, random_state=42)\n",
    "X, y = np.array(X), np.array(y)\n",
    "for train_index, test_index in sss.split(X, y):\n",
    "    X_train, X_test = X[train_index], X[test_index]\n",
    "    y_train, y_test = y[train_index], y[test_index]\n",
    "#X_train, X_test, y_train, y_test = train_test_split(X, y, test_size=0.3, random_state=42, shuffle=True)\n",
    "\n",
    "    # Training Random Forest classifier\n",
    "    rf_model = RandomForestClassifier()\n",
    "    rf_model.fit(X_train, y_train)\n",
    "\n",
    "    # Obtaining predictions\n",
    "    pred_test = rf_model.predict(X_test)\n",
    "\n",
    "    # Computing performance metrics\n",
    "    #f1_noninteract, f1_interact = metrics.f1_score(y_test, pred_test, average=None)\n",
    "    weighted_avg_f1 = metrics.f1_score(y_test, pred_test, average='weighted')\n",
    "    #precision = metrics.precision_score(y_test, pred_test)\n",
    "    #recall = metrics.recall_score(y_test, pred_test)\n",
    "    #accuracy = metrics.accuracy_score(y_test, pred_test)\n",
    "    f1_0.append(weighted_avg_f1)\n",
    "\n",
    "# Printing performance metrics\n",
    "#print('Performance metrics:')\n",
    "#print('F-measure (class 1) = ' + str(f1_interact))\n",
    "#print('F-measure (class 0) = ' + str(f1_noninteract))\n",
    "print('Weighted Average F-measure = ' + str(np.mean(f1_0)))\n",
    "#print('Precision = ' + str(precision))\n",
    "#print('Recall = ' + str(recall))\n",
    "#print('Accuracy = ' + str(accuracy))"
   ]
  },
  {
   "cell_type": "markdown",
   "id": "c52e73a2",
   "metadata": {},
   "source": [
    "# F-measure Analysis"
   ]
  },
  {
   "cell_type": "code",
   "execution_count": null,
   "id": "fba59c75",
   "metadata": {},
   "outputs": [
    {
     "data": {
      "image/png": "[encoded data removed]",
      "text/plain": [
       "<Figure size 432x288 with 1 Axes>"
      ]
     },
     "metadata": {
      "needs_background": "light"
     },
     "output_type": "display_data"
    }
   ],
   "source": [
    "f1_x = [0,200,400,600,800]\n",
    "f1_y = [np.mean(f1_0),np.mean(f1_2),np.mean(f1_4),np.mean(f1_6),np.mean(f1_8)]\n",
    "\n",
    "plt.scatter(f1_x,f1_y)\n",
    "plt.xlabel('Confidence')\n",
    "plt.ylabel('F1-score')\n",
    "plt.ylim(0,1)\n",
    "\n",
    "#use for loop to add annotations to each point in plot \n",
    "for i, txt in enumerate(f1_y):\n",
    "    plt.annotate(round(txt,3), (f1_x[i]+.25, f1_y[i]), fontsize=12)\n",
    "\n",
    "plt.show()"
   ]
  }
 ],
 "metadata": {
  "kernelspec": {
   "display_name": "Python 3 (ipykernel)",
   "language": "python",
   "name": "python3"
  },
  "language_info": {
   "codemirror_mode": {
    "name": "ipython",
    "version": 3
   },
   "file_extension": ".py",
   "mimetype": "text/x-python",
   "name": "python",
   "nbconvert_exporter": "python",
   "pygments_lexer": "ipython3",
   "version": "3.11.5"
  },
  "varInspector": {
   "cols": {
    "lenName": 16,
    "lenType": 16,
    "lenVar": 40
   },
   "kernels_config": {
    "python": {
     "delete_cmd_postfix": "",
     "delete_cmd_prefix": "del ",
     "library": "var_list.py",
     "varRefreshCmd": "print(var_dic_list())"
    },
    "r": {
     "delete_cmd_postfix": ") ",
     "delete_cmd_prefix": "rm(",
     "library": "var_list.r",
     "varRefreshCmd": "cat(var_dic_list()) "
    }
   },
   "types_to_exclude": [
    "module",
    "function",
    "builtin_function_or_method",
    "instance",
    "_Feature"
   ],
   "window_display": false
  }
 },
 "nbformat": 4,
 "nbformat_minor": 5
}
