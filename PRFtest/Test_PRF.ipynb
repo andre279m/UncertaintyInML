{
 "cells": [
  {
   "cell_type": "markdown",
   "id": "ebd93b5b",
   "metadata": {},
   "source": [
    "# Imports"
   ]
  },
  {
   "cell_type": "code",
   "execution_count": 1,
   "id": "ef587d96",
   "metadata": {},
   "outputs": [
    {
     "name": "stdout",
     "output_type": "stream",
     "text": [
      "Requirement already satisfied: numpy==1.26.0 in /home/andre279m/anaconda3/envs/PRF39/lib/python3.9/site-packages (from -r requirements3_9.txt (line 1)) (1.26.0)\n",
      "Requirement already satisfied: scipy==1.11.3 in /home/andre279m/anaconda3/envs/PRF39/lib/python3.9/site-packages (from -r requirements3_9.txt (line 2)) (1.11.3)\n",
      "Requirement already satisfied: rdflib==7.0.0 in /home/andre279m/anaconda3/envs/PRF39/lib/python3.9/site-packages (from -r requirements3_9.txt (line 3)) (7.0.0)\n",
      "Requirement already satisfied: seaborn==0.13.0 in /home/andre279m/anaconda3/envs/PRF39/lib/python3.9/site-packages (from -r requirements3_9.txt (line 4)) (0.13.0)\n",
      "Requirement already satisfied: scikit-learn==1.3.1 in /home/andre279m/anaconda3/envs/PRF39/lib/python3.9/site-packages (from -r requirements3_9.txt (line 5)) (1.3.1)\n",
      "Requirement already satisfied: sparqlwrapper==2.0.0 in /home/andre279m/anaconda3/envs/PRF39/lib/python3.9/site-packages (from -r requirements3_9.txt (line 6)) (2.0.0)\n",
      "Requirement already satisfied: gensim==4.3.2 in /home/andre279m/anaconda3/envs/PRF39/lib/python3.9/site-packages (from -r requirements3_9.txt (line 7)) (4.3.2)\n",
      "Requirement already satisfied: tqdm==4.66.1 in /home/andre279m/anaconda3/envs/PRF39/lib/python3.9/site-packages (from -r requirements3_9.txt (line 8)) (4.66.1)\n",
      "Requirement already satisfied: matplotlib==3.8.0 in /home/andre279m/anaconda3/envs/PRF39/lib/python3.9/site-packages (from -r requirements3_9.txt (line 9)) (3.8.0)\n",
      "Requirement already satisfied: aiohttp==3.8.5 in /home/andre279m/anaconda3/envs/PRF39/lib/python3.9/site-packages (from -r requirements3_9.txt (line 10)) (3.8.5)\n",
      "Requirement already satisfied: networkx==3.1 in /home/andre279m/anaconda3/envs/PRF39/lib/python3.9/site-packages (from -r requirements3_9.txt (line 11)) (3.1)\n",
      "Requirement already satisfied: isodate<0.7.0,>=0.6.0 in /home/andre279m/anaconda3/envs/PRF39/lib/python3.9/site-packages (from rdflib==7.0.0->-r requirements3_9.txt (line 3)) (0.6.1)\n",
      "Requirement already satisfied: pyparsing<4,>=2.1.0 in /home/andre279m/anaconda3/envs/PRF39/lib/python3.9/site-packages (from rdflib==7.0.0->-r requirements3_9.txt (line 3)) (3.1.1)\n",
      "Requirement already satisfied: pandas>=1.2 in /home/andre279m/anaconda3/envs/PRF39/lib/python3.9/site-packages (from seaborn==0.13.0->-r requirements3_9.txt (line 4)) (2.1.3)\n",
      "Requirement already satisfied: joblib>=1.1.1 in /home/andre279m/anaconda3/envs/PRF39/lib/python3.9/site-packages/joblib-1.3.2-py3.9.egg (from scikit-learn==1.3.1->-r requirements3_9.txt (line 5)) (1.3.2)\n",
      "Requirement already satisfied: threadpoolctl>=2.0.0 in /home/andre279m/anaconda3/envs/PRF39/lib/python3.9/site-packages (from scikit-learn==1.3.1->-r requirements3_9.txt (line 5)) (3.2.0)\n",
      "Requirement already satisfied: smart-open>=1.8.1 in /home/andre279m/anaconda3/envs/PRF39/lib/python3.9/site-packages (from gensim==4.3.2->-r requirements3_9.txt (line 7)) (6.4.0)\n",
      "Requirement already satisfied: contourpy>=1.0.1 in /home/andre279m/anaconda3/envs/PRF39/lib/python3.9/site-packages (from matplotlib==3.8.0->-r requirements3_9.txt (line 9)) (1.2.0)\n",
      "Requirement already satisfied: cycler>=0.10 in /home/andre279m/anaconda3/envs/PRF39/lib/python3.9/site-packages (from matplotlib==3.8.0->-r requirements3_9.txt (line 9)) (0.12.1)\n",
      "Requirement already satisfied: fonttools>=4.22.0 in /home/andre279m/anaconda3/envs/PRF39/lib/python3.9/site-packages (from matplotlib==3.8.0->-r requirements3_9.txt (line 9)) (4.46.0)\n",
      "Requirement already satisfied: kiwisolver>=1.0.1 in /home/andre279m/anaconda3/envs/PRF39/lib/python3.9/site-packages (from matplotlib==3.8.0->-r requirements3_9.txt (line 9)) (1.4.5)\n",
      "Requirement already satisfied: packaging>=20.0 in /home/andre279m/anaconda3/envs/PRF39/lib/python3.9/site-packages (from matplotlib==3.8.0->-r requirements3_9.txt (line 9)) (23.2)\n",
      "Requirement already satisfied: pillow>=6.2.0 in /home/andre279m/anaconda3/envs/PRF39/lib/python3.9/site-packages (from matplotlib==3.8.0->-r requirements3_9.txt (line 9)) (10.1.0)\n",
      "Requirement already satisfied: python-dateutil>=2.7 in /home/andre279m/anaconda3/envs/PRF39/lib/python3.9/site-packages (from matplotlib==3.8.0->-r requirements3_9.txt (line 9)) (2.8.2)\n",
      "Requirement already satisfied: importlib-resources>=3.2.0 in /home/andre279m/anaconda3/envs/PRF39/lib/python3.9/site-packages (from matplotlib==3.8.0->-r requirements3_9.txt (line 9)) (6.1.1)\n",
      "Requirement already satisfied: attrs>=17.3.0 in /home/andre279m/anaconda3/envs/PRF39/lib/python3.9/site-packages (from aiohttp==3.8.5->-r requirements3_9.txt (line 10)) (23.1.0)\n",
      "Requirement already satisfied: charset-normalizer<4.0,>=2.0 in /home/andre279m/anaconda3/envs/PRF39/lib/python3.9/site-packages (from aiohttp==3.8.5->-r requirements3_9.txt (line 10)) (3.3.2)\n",
      "Requirement already satisfied: multidict<7.0,>=4.5 in /home/andre279m/anaconda3/envs/PRF39/lib/python3.9/site-packages (from aiohttp==3.8.5->-r requirements3_9.txt (line 10)) (6.0.4)\n",
      "Requirement already satisfied: async-timeout<5.0,>=4.0.0a3 in /home/andre279m/anaconda3/envs/PRF39/lib/python3.9/site-packages (from aiohttp==3.8.5->-r requirements3_9.txt (line 10)) (4.0.3)\n",
      "Requirement already satisfied: yarl<2.0,>=1.0 in /home/andre279m/anaconda3/envs/PRF39/lib/python3.9/site-packages (from aiohttp==3.8.5->-r requirements3_9.txt (line 10)) (1.9.3)\n",
      "Requirement already satisfied: frozenlist>=1.1.1 in /home/andre279m/anaconda3/envs/PRF39/lib/python3.9/site-packages (from aiohttp==3.8.5->-r requirements3_9.txt (line 10)) (1.4.0)\n",
      "Requirement already satisfied: aiosignal>=1.1.2 in /home/andre279m/anaconda3/envs/PRF39/lib/python3.9/site-packages (from aiohttp==3.8.5->-r requirements3_9.txt (line 10)) (1.3.1)\n",
      "Requirement already satisfied: zipp>=3.1.0 in /home/andre279m/anaconda3/envs/PRF39/lib/python3.9/site-packages (from importlib-resources>=3.2.0->matplotlib==3.8.0->-r requirements3_9.txt (line 9)) (3.17.0)\n",
      "Requirement already satisfied: six in /home/andre279m/anaconda3/envs/PRF39/lib/python3.9/site-packages (from isodate<0.7.0,>=0.6.0->rdflib==7.0.0->-r requirements3_9.txt (line 3)) (1.16.0)\n",
      "Requirement already satisfied: pytz>=2020.1 in /home/andre279m/anaconda3/envs/PRF39/lib/python3.9/site-packages (from pandas>=1.2->seaborn==0.13.0->-r requirements3_9.txt (line 4)) (2023.3.post1)\n",
      "Requirement already satisfied: tzdata>=2022.1 in /home/andre279m/anaconda3/envs/PRF39/lib/python3.9/site-packages (from pandas>=1.2->seaborn==0.13.0->-r requirements3_9.txt (line 4)) (2023.3)\n",
      "Requirement already satisfied: idna>=2.0 in /home/andre279m/anaconda3/envs/PRF39/lib/python3.9/site-packages (from yarl<2.0,>=1.0->aiohttp==3.8.5->-r requirements3_9.txt (line 10)) (3.6)\n",
      "Note: you may need to restart the kernel to use updated packages.\n"
     ]
    }
   ],
   "source": [
    "%pip install -r requirements3_9.txt"
   ]
  },
  {
   "cell_type": "code",
   "execution_count": 2,
   "metadata": {},
   "outputs": [
    {
     "name": "stdout",
     "output_type": "stream",
     "text": [
      "/home/andre279m/anaconda3/envs/PRF39/lib/python3.9/site-packages/setuptools/dist.py:509: InformationOnly: Normalizing '0.1dev' to '0.1.dev0'\n",
      "  self.metadata.version = self._normalize_version(\n",
      "running install\n",
      "/home/andre279m/anaconda3/envs/PRF39/lib/python3.9/site-packages/setuptools/_distutils/cmd.py:66: SetuptoolsDeprecationWarning: setup.py install is deprecated.\n",
      "!!\n",
      "\n",
      "        ********************************************************************************\n",
      "        Please avoid running ``setup.py`` directly.\n",
      "        Instead, use pypa/build, pypa/installer or other\n",
      "        standards-based tools.\n",
      "\n",
      "        See https://blog.ganssle.io/articles/2021/10/setup-py-deprecated.html for details.\n",
      "        ********************************************************************************\n",
      "\n",
      "!!\n",
      "  self.initialize_options()\n",
      "/home/andre279m/anaconda3/envs/PRF39/lib/python3.9/site-packages/setuptools/_distutils/cmd.py:66: EasyInstallDeprecationWarning: easy_install command is deprecated.\n",
      "!!\n",
      "\n",
      "        ********************************************************************************\n",
      "        Please avoid running ``setup.py`` and ``easy_install``.\n",
      "        Instead, use pypa/build, pypa/installer or other\n",
      "        standards-based tools.\n",
      "\n",
      "        See https://github.com/pypa/setuptools/issues/917 for details.\n",
      "        ********************************************************************************\n",
      "\n",
      "!!\n",
      "  self.initialize_options()\n",
      "running bdist_egg\n",
      "running egg_info\n",
      "writing PRF.egg-info/PKG-INFO\n",
      "writing dependency_links to PRF.egg-info/dependency_links.txt\n",
      "writing requirements to PRF.egg-info/requires.txt\n",
      "writing top-level names to PRF.egg-info/top_level.txt\n",
      "reading manifest file 'PRF.egg-info/SOURCES.txt'\n",
      "writing manifest file 'PRF.egg-info/SOURCES.txt'\n",
      "installing library code to build/bdist.linux-x86_64/egg\n",
      "running install_lib\n",
      "running build_py\n",
      "creating build/bdist.linux-x86_64/egg\n",
      "creating build/bdist.linux-x86_64/egg/PRF\n",
      "copying build/lib/PRF/setup.py -> build/bdist.linux-x86_64/egg/PRF\n",
      "byte-compiling build/bdist.linux-x86_64/egg/PRF/setup.py to setup.cpython-39.pyc\n",
      "creating build/bdist.linux-x86_64/egg/EGG-INFO\n",
      "copying PRF.egg-info/PKG-INFO -> build/bdist.linux-x86_64/egg/EGG-INFO\n",
      "copying PRF.egg-info/SOURCES.txt -> build/bdist.linux-x86_64/egg/EGG-INFO\n",
      "copying PRF.egg-info/dependency_links.txt -> build/bdist.linux-x86_64/egg/EGG-INFO\n",
      "copying PRF.egg-info/not-zip-safe -> build/bdist.linux-x86_64/egg/EGG-INFO\n",
      "copying PRF.egg-info/requires.txt -> build/bdist.linux-x86_64/egg/EGG-INFO\n",
      "copying PRF.egg-info/top_level.txt -> build/bdist.linux-x86_64/egg/EGG-INFO\n",
      "creating 'dist/PRF-0.1.dev0-py3.9.egg' and adding 'build/bdist.linux-x86_64/egg' to it\n",
      "removing 'build/bdist.linux-x86_64/egg' (and everything under it)\n",
      "Processing PRF-0.1.dev0-py3.9.egg\n",
      "removing '/home/andre279m/anaconda3/envs/PRF39/lib/python3.9/site-packages/PRF-0.1.dev0-py3.9.egg' (and everything under it)\n",
      "creating /home/andre279m/anaconda3/envs/PRF39/lib/python3.9/site-packages/PRF-0.1.dev0-py3.9.egg\n",
      "Extracting PRF-0.1.dev0-py3.9.egg to /home/andre279m/anaconda3/envs/PRF39/lib/python3.9/site-packages\n",
      "Adding PRF 0.1.dev0 to easy-install.pth file\n",
      "\n",
      "Installed /home/andre279m/anaconda3/envs/PRF39/lib/python3.9/site-packages/PRF-0.1.dev0-py3.9.egg\n",
      "Processing dependencies for PRF==0.1.dev0\n",
      "Searching for joblib==1.3.2\n",
      "Best match: joblib 1.3.2\n",
      "Processing joblib-1.3.2-py3.9.egg\n",
      "Adding joblib 1.3.2 to easy-install.pth file\n",
      "\n",
      "Using /home/andre279m/anaconda3/envs/PRF39/lib/python3.9/site-packages/joblib-1.3.2-py3.9.egg\n",
      "Searching for numba==0.58.1\n",
      "Best match: numba 0.58.1\n",
      "Processing numba-0.58.1-py3.9-linux-x86_64.egg\n",
      "Adding numba 0.58.1 to easy-install.pth file\n",
      "Installing numba script to /home/andre279m/anaconda3/envs/PRF39/bin\n",
      "\n",
      "Using /home/andre279m/anaconda3/envs/PRF39/lib/python3.9/site-packages/numba-0.58.1-py3.9-linux-x86_64.egg\n",
      "Searching for scipy==1.11.3\n",
      "Best match: scipy 1.11.3\n",
      "Adding scipy 1.11.3 to easy-install.pth file\n",
      "\n",
      "Using /home/andre279m/anaconda3/envs/PRF39/lib/python3.9/site-packages\n",
      "Searching for numpy==1.26.0\n",
      "Best match: numpy 1.26.0\n",
      "Adding numpy 1.26.0 to easy-install.pth file\n",
      "Installing f2py script to /home/andre279m/anaconda3/envs/PRF39/bin\n",
      "\n",
      "Using /home/andre279m/anaconda3/envs/PRF39/lib/python3.9/site-packages\n",
      "Searching for llvmlite==0.41.1\n",
      "Best match: llvmlite 0.41.1\n",
      "Processing llvmlite-0.41.1-py3.9-linux-x86_64.egg\n",
      "Adding llvmlite 0.41.1 to easy-install.pth file\n",
      "\n",
      "Using /home/andre279m/anaconda3/envs/PRF39/lib/python3.9/site-packages/llvmlite-0.41.1-py3.9-linux-x86_64.egg\n",
      "Finished processing dependencies for PRF==0.1.dev0\n"
     ]
    }
   ],
   "source": [
    "!python PRF/setup.py install"
   ]
  },
  {
   "cell_type": "code",
   "execution_count": 3,
   "id": "9ce75cb3",
   "metadata": {},
   "outputs": [],
   "source": [
    "import rdflib\n",
    "import pandas as pd\n",
    "import matplotlib.pyplot as plt\n",
    "import numpy as np\n",
    "from sklearn.model_selection import StratifiedShuffleSplit\n",
    "from sklearn import metrics\n",
    "from sklearn.ensemble import RandomForestClassifier\n",
    "from pyrdf2vec.graphs import kg\n",
    "from pyrdf2vec.rdf2vec import RDF2VecTransformer\n",
    "from pyrdf2vec.graphs import Vertex\n",
    "from pyrdf2vec.embedders import Word2Vec\n",
    "from pyrdf2vec.samplers import UniformSampler, ObjFreqSampler, PredFreqSampler\n",
    "from pyrdf2vec.walkers import RandomWalker, WLWalker, WalkletWalker\n",
    "import random\n",
    "import PRF\n"
   ]
  },
  {
   "cell_type": "markdown",
   "id": "a2dbacb5",
   "metadata": {},
   "source": [
    "# Files"
   ]
  },
  {
   "cell_type": "code",
   "execution_count": 4,
   "id": "122411ff",
   "metadata": {},
   "outputs": [],
   "source": [
    "gene_ontology_file_path = '../DB/go.owl'\n",
    "protein_file_path = '../DB/9606.protein.enrichment.terms.v12.0.txt'\n",
    "protein_links_file_path = '../DB/9606.protein.links.v12.0.txt'\n",
    "protein_full_links_file_path = '../DB/9606.protein.links.detailed.v12.0.txt'"
   ]
  },
  {
   "cell_type": "markdown",
   "id": "ffdb6517",
   "metadata": {
    "scrolled": true
   },
   "source": [
    "data = pd.read_csv(protein_links_file_path, sep=\" \", header=0)\n",
    "data"
   ]
  },
  {
   "cell_type": "markdown",
   "id": "6c95e37a",
   "metadata": {},
   "source": [
    "# Creating the Knowledge graph"
   ]
  },
  {
   "cell_type": "code",
   "execution_count": 5,
   "id": "1d0475cf",
   "metadata": {},
   "outputs": [],
   "source": [
    "g = rdflib.Graph()\n",
    "g.parse(gene_ontology_file_path, format = 'xml');"
   ]
  },
  {
   "cell_type": "code",
   "execution_count": 6,
   "id": "f0015d27",
   "metadata": {},
   "outputs": [],
   "source": [
    "prots = []\n",
    "\n",
    "with open(protein_file_path , 'r') as prot_annot:\n",
    "    prot_annot.readline()\n",
    "    for line in prot_annot:\n",
    "        elements_annot = line.split('\\t')\n",
    "        id_prot, GO_term = elements_annot[0], elements_annot[2]\n",
    "        if GO_term.startswith('GO:') :\n",
    "            url_GO_term = 'http://purl.obolibrary.org/obo/GO_' + GO_term.split(':')[1]\n",
    "            url_prot = 'https://string-db.org/network/' + id_prot\n",
    "            if id_prot not in prots:\n",
    "                prots.append(id_prot)\n",
    "            #if (id_prot in data2[\"protein1\"].values or id_prot in data2[\"protein2\"].values) and url_prot not in prots:\n",
    "            #    prots.append(url_prot)\n",
    "            g.add((rdflib.term.URIRef(url_prot), rdflib.term.URIRef('http://purl.obolibrary.org/obo/go.owl#has_function') , rdflib.term.URIRef(url_GO_term)))"
   ]
  },
  {
   "cell_type": "markdown",
   "id": "27d51d20",
   "metadata": {},
   "source": [
    "# Distribution of Confidence"
   ]
  },
  {
   "cell_type": "code",
   "execution_count": 7,
   "id": "a8ab2c3d",
   "metadata": {},
   "outputs": [],
   "source": [
    "data_full = pd.read_csv(protein_full_links_file_path, sep=\" \", header=0)\n",
    "data_full = data_full[data_full[\"protein1\"].isin(prots) & data_full[\"protein2\"].isin(prots)]\n",
    "data_full"
   ]
  },
  {
   "cell_type": "code",
   "execution_count": null,
   "metadata": {},
   "outputs": [
    {
     "data": {
      "image/png": "[encoded data removed]",
      "text/plain": [
       "<Figure size 640x480 with 1 Axes>"
      ]
     },
     "metadata": {},
     "output_type": "display_data"
    }
   ],
   "source": [
    "# Create a histogram and get the patches\n",
    "counts, bins, patches = plt.hist(data_full['combined_score'], bins=10, bottom=list(range(0,1000,100)), range=(0,1000))\n",
    "\n",
    "# Set the title and labels\n",
    "plt.title('Number of entries in STRING DB')\n",
    "plt.xlabel('Confidence Score')\n",
    "plt.ylabel('Number of interactions')\n",
    "\n",
    "# Annotate histogram with the number of data points in each bin\n",
    "for count, bin, patch in zip(counts, bins, patches):\n",
    "    height = patch.get_height()\n",
    "    plt.text(bin, height, str(int(count)), va='bottom', fontsize=7.5)\n",
    "\n",
    "plt.show()"
   ]
  },
  {
   "cell_type": "code",
   "execution_count": null,
   "id": "74a25843",
   "metadata": {},
   "outputs": [
    {
     "data": {
      "image/png": "[encoded data removed]",
      "text/plain": [
       "<Figure size 640x480 with 8 Axes>"
      ]
     },
     "metadata": {},
     "output_type": "display_data"
    }
   ],
   "source": [
    "fig, axs = plt.subplots(2, 4)\n",
    "axs[0, 0].hist(data_full['combined_score'],bins=10,bottom=list(range(0,1000,100)),range=(0,1000));\n",
    "axs[0, 0].set_title('Combined score', y=1.1)  # Increase the y parameter to move the title up\n",
    "axs[0, 1].hist(data_full['neighborhood'],bins=10,bottom=list(range(0,1000,100)),range=(0,1000));\n",
    "axs[0, 1].set_title('Conserved Neighbourhood', y=1.1)\n",
    "axs[0, 2].hist(data_full['fusion'],bins=10,bottom=list(range(0,1000,100)),range=(0,1000));\n",
    "axs[0, 2].set_title('Fusion', y=1.1)\n",
    "axs[0, 3].hist(data_full['cooccurence'],bins=10,bottom=list(range(0,1000,100)),range=(0,1000));\n",
    "axs[0, 3].set_title('Co-occurrence', y=1.1)\n",
    "axs[1, 0].hist(data_full['experimental'],bins=10,bottom=list(range(0,1000,100)),range=(0,1000));\n",
    "axs[1, 0].set_title('Experimental', y=1.1)\n",
    "axs[1, 1].hist(data_full['database'],bins=10,bottom=list(range(0,1000,100)),range=(0,1000));\n",
    "axs[1, 1].set_title('Database', y=1.1)\n",
    "axs[1, 2].hist(data_full['coexpression'],bins=10,bottom=list(range(0,1000,100)),range=(0,1000));\n",
    "axs[1, 2].set_title('Co-expression', y=1.1)\n",
    "axs[1, 3].hist(data_full['textmining'],bins=10,bottom=list(range(0,1000,100)),range=(0,1000));\n",
    "axs[1, 3].set_title('Text mining', y=1.1);\n",
    "\n",
    "plt.subplots_adjust(left=0.01, right=1.3, hspace=0.5)\n",
    "\n",
    "# Hide x labels and tick labels for top plots and y ticks for right plots.\n",
    "#for ax in axs.flat:\n",
    "#    ax.label_outer()"
   ]
  },
  {
   "cell_type": "markdown",
   "id": "ffed6b5e",
   "metadata": {},
   "source": [
    "# Creating thresholds"
   ]
  },
  {
   "cell_type": "code",
   "execution_count": null,
   "id": "73950f11",
   "metadata": {},
   "outputs": [],
   "source": [
    "# Thresholds for the whole dataset\n",
    "\n",
    "# data8 = data_full.where(data_full['combined_score']>800).copy().dropna().reset_index(drop=True)\n",
    "# data6 = data_full.where(data_full['combined_score']>600).copy().dropna().reset_index(drop=True)\n",
    "# data4 = data_full.where(data_full['combined_score']>400).copy().dropna().reset_index(drop=True)\n",
    "# data2 = data_full.where(data_full['combined_score']>200).copy().dropna().reset_index(drop=True)\n",
    "# dataSample = data_full\n",
    "\n",
    "# Thresholds for fixed size sampling (1000 samples)\n",
    "\n",
    "data8 = data_full.where(data_full['combined_score']>800).copy().dropna().reset_index(drop=True).sample(n=1000, random_state=42)\n",
    "data6 = data_full.where(data_full['combined_score']>600).copy().dropna().reset_index(drop=True).sample(n=1000,random_state=42)\n",
    "data4 = data_full.where(data_full['combined_score']>400).copy().dropna().reset_index(drop=True).sample(n=1000,random_state=42)\n",
    "data2 = data_full.where(data_full['combined_score']>200).copy().dropna().reset_index(drop=True).sample(n=1000,random_state=42)\n",
    "dataSample = data_full.sample(n=1000,random_state=42)\n",
    "\n",
    "# Thresholds for fraction sampling (10% of the data)\n",
    "\n",
    "# data8 = data_full.where(data_full['combined_score']>800).copy().dropna().reset_index(drop=True).sample(frac=0.1, random_state=42)\n",
    "# data6 = data_full.where(data_full['combined_score']>600).copy().dropna().reset_index(drop=True).sample(frac=0.1,random_state=42)\n",
    "# data4 = data_full.where(data_full['combined_score']>400).copy().dropna().reset_index(drop=True).sample(frac=0.1,random_state=42)\n",
    "# data2 = data_full.where(data_full['combined_score']>200).copy().dropna().reset_index(drop=True).sample(frac=0.1,random_state=42)\n",
    "# dataSample = data_full.sample(frac=0.1,random_state=42)\n",
    "\n",
    "\n",
    "# Thresholds for uniform sampling\n",
    "\n",
    "# select = []\n",
    "# for N in range(1000):\n",
    "#    ind = int(N*len(data8)/1000)\n",
    "#    select.append(ind)\n",
    "# data8 = data8.loc[select]\n",
    "#select = []\n",
    "#for N in range(1000):\n",
    "#    ind = int(N*len(data6)/1000)\n",
    "#    select.append(ind)\n",
    "#data6 = data6.loc[select]\n",
    "#select = []\n",
    "#for N in range(1000):\n",
    "#    ind = int(N*len(data4)/1000)\n",
    "#    select.append(ind)\n",
    "#data4 = data4.loc[select]\n",
    "#select = []\n",
    "#for N in range(1000):\n",
    "#    ind = int(N*len(data8)/1000)\n",
    "#    select.append(ind)\n",
    "#data2 = data2.loc[select]\n",
    "#select = []\n",
    "#for N in range(1000):\n",
    "#    ind = int(N*len(dataSample)/1000)\n",
    "#    select.append(ind)\n",
    "#dataSample = dataSample.reset_index(drop=True).loc[select]"
   ]
  },
  {
   "cell_type": "markdown",
   "id": "9be4aee1",
   "metadata": {},
   "source": [
    "# Pipeline"
   ]
  },
  {
   "cell_type": "code",
   "execution_count": null,
   "metadata": {},
   "outputs": [],
   "source": [
    "# Defining rdf2vec paramenters\n",
    "vector_size = 200\n",
    "n_walks = 100\n",
    "type_word2vec = 'skip-gram'\n",
    "walk_depth = 4\n",
    "walker_type = 'wl'\n",
    "sampler_type = 'uniform'\n",
    "\n",
    "# Creating a pyrdf2vec graph\n",
    "g_pyrdf2vec = kg.KG(mul_req=False)\n",
    "for (s, p, o) in g:\n",
    "    s_v = Vertex(str(s))\n",
    "    o_v = Vertex(str(o))\n",
    "    p_v = Vertex(str(p), predicate=True, vprev=s_v, vnext=o_v)\n",
    "    g_pyrdf2vec.add_vertex(s_v)\n",
    "    g_pyrdf2vec.add_vertex(p_v)\n",
    "    g_pyrdf2vec.add_vertex(o_v)\n",
    "    g_pyrdf2vec.add_edge(s_v, p_v)\n",
    "    g_pyrdf2vec.add_edge(p_v, o_v)\n",
    "\n",
    "# Defining the word2vec strategy\n",
    "if type_word2vec == 'CBOW':\n",
    "    sg_value = 0\n",
    "elif type_word2vec == 'skip-gram':\n",
    "    sg_value = 1\n",
    "\n",
    "# Defining sampling strategy \n",
    "if sampler_type.lower() == 'uniform':\n",
    "    sampler = UniformSampler()\n",
    "elif sampler_type.lower() == 'predfreq':\n",
    "    sampler = PredFreqSampler()\n",
    "elif sampler_type.lower() == 'objfreq':\n",
    "    sampler = ObjFreqSampler()\n",
    "\n",
    "# Defining warker strategy\n",
    "if walker_type.lower() == 'random':\n",
    "    walker = RandomWalker(max_depth=walk_depth, max_walks=n_walks, sampler = sampler)\n",
    "elif walker_type.lower() == 'wl':\n",
    "    walker = WLWalker(max_depth=walk_depth, max_walks=n_walks, sampler = sampler)\n",
    "elif walker_type.lower() == 'walklet':\n",
    "    walker = WalkletWalker(max_depth=walk_depth, max_walks=n_walks, sampler = sampler)\n",
    "\n",
    "# Training RDF2Vec embeddings    \n",
    "transformer = RDF2VecTransformer(Word2Vec(vector_size=vector_size, sg=sg_value), walkers=[walker])"
   ]
  },
  {
   "cell_type": "markdown",
   "metadata": {},
   "source": [
    "# PRF"
   ]
  },
  {
   "cell_type": "code",
   "execution_count": null,
   "metadata": {},
   "outputs": [
    {
     "name": "stderr",
     "output_type": "stream",
     "text": [
      "  0%|          | 0/1587 [00:00<?, ?it/s]"
     ]
    }
   ],
   "source": [
    "random.seed(42)\n",
    "\n",
    "f1_results = {} # list of f1 results\n",
    "\n",
    "for i in range(800, -1, -200):\n",
    "    if i == 800:\n",
    "        data = data8\n",
    "    elif i == 600:\n",
    "        data = data6\n",
    "    elif i == 400:\n",
    "        data = data4\n",
    "    elif i == 200:\n",
    "        data = data2\n",
    "    elif i == 0:\n",
    "        data = dataSample\n",
    "\n",
    "    # Creating a list of all proteins\n",
    "    prots = []\n",
    "\n",
    "    for value in data[\"protein1\"].values:\n",
    "        url_prot = 'https://string-db.org/network/' + value\n",
    "        if url_prot not in prots:\n",
    "            prots.append(url_prot)\n",
    "\n",
    "    for value in data[\"protein2\"].values:\n",
    "        url_prot = 'https://string-db.org/network/' + value\n",
    "        if url_prot not in prots:\n",
    "            prots.append(url_prot)\n",
    "\n",
    "    #Generating the embeddings\n",
    "    embeddings, literals = transformer.fit_transform(g_pyrdf2vec, prots)\n",
    "    # Saving embedding in a dictionary\n",
    "    dict_embeddings = {prots[i]: embeddings[i] for i in range(len(prots))}\n",
    "\n",
    "    pairs_prots = []\n",
    "    for d in data.values:\n",
    "        pairs_prots.append(('https://string-db.org/network/' + d[0],'https://string-db.org/network/' + d[1], [1-d[2], d[2]]))\n",
    "    \n",
    "    print(pairs_prots[1])\n",
    "\n",
    "    pairs_prots = set(pairs_prots)\n",
    "\n",
    "    # Generating pair representations using haddamard operator # other possibilities are concatenation, wl-1 or wl-2\n",
    "    X, y = [], []\n",
    "    for prot1, prot2, label in pairs_prots:\n",
    "        emb_prot1 = dict_embeddings[prot1].reshape(1, vector_size)\n",
    "        emb_prot2 = dict_embeddings[prot2].reshape(1, vector_size)\n",
    "        hada = np.multiply(emb_prot1, emb_prot2)\n",
    "        X.append(hada.tolist()[0])\n",
    "        y.append(int(label))\n",
    "\n",
    "    f1 = []\n",
    "\n",
    "    # Creating training set and test set\n",
    "    sss = StratifiedShuffleSplit(n_splits=10, random_state=42)\n",
    "    X, y = np.array(X), np.array(y)\n",
    "    for train_index, test_index in sss.split(X, y):\n",
    "        X_train, X_test = X[train_index], X[test_index]\n",
    "        y_train, y_test = y[train_index], y[test_index]\n",
    "    #X_train, X_test, y_train, y_test = train_test_split(X, y, test_size=0.3, random_state=42, shuffle=True)\n",
    "\n",
    "        # Training Random Forest classifier\n",
    "        rf_model = RandomForestClassifier()\n",
    "        rf_model.fit(X_train, y_train)\n",
    "\n",
    "        # Obtaining predictions\n",
    "        pred_test = rf_model.predict(X_test)\n",
    "\n",
    "        # Computing performance metrics\n",
    "        weighted_avg_f1 = metrics.f1_score(y_test, pred_test, average='weighted')\n",
    "        f1.append(weighted_avg_f1)\n",
    "    \n",
    "    f1_mean = np.mean(f1)\n",
    "    f1_results[i] = f1_mean\n",
    "\n",
    "    # Printing performance metrics\n",
    "    print('Weighted Average F-measure for ' + str(i) + ' or more confidence score= ' + str(f1_mean))"
   ]
  },
  {
   "cell_type": "markdown",
   "metadata": {},
   "source": [
    "# F-measure Analysis"
   ]
  },
  {
   "cell_type": "code",
   "execution_count": null,
   "metadata": {},
   "outputs": [
    {
     "data": {
      "image/png": "[encoded data removed]",
      "text/plain": [
       "<Figure size 432x288 with 1 Axes>"
      ]
     },
     "metadata": {
      "needs_background": "light"
     },
     "output_type": "display_data"
    }
   ],
   "source": [
    "f1_x = list(f1_results.keys())\n",
    "f1_y = list(f1_results.values())\n",
    "\n",
    "plt.scatter(f1_x,f1_y)\n",
    "plt.xlabel('Confidence')\n",
    "plt.ylabel('F1-score')\n",
    "plt.ylim(0,1)\n",
    "plt.title('F1-score vs Confidence')\n",
    "\n",
    "#use for loop to add annotations to each point in plot \n",
    "for i, txt in enumerate(f1_y):\n",
    "    plt.annotate(round(txt,3), (f1_x[i]+.25, f1_y[i]), fontsize=12)\n",
    "\n",
    "plt.show()"
   ]
  }
 ],
 "metadata": {
  "kernelspec": {
   "display_name": "Python 3 (ipykernel)",
   "language": "python",
   "name": "python3"
  },
  "language_info": {
   "codemirror_mode": {
    "name": "ipython",
    "version": 3
   },
   "file_extension": ".py",
   "mimetype": "text/x-python",
   "name": "python",
   "nbconvert_exporter": "python",
   "pygments_lexer": "ipython3",
   "version": "3.9.18"
  },
  "varInspector": {
   "cols": {
    "lenName": 16,
    "lenType": 16,
    "lenVar": 40
   },
   "kernels_config": {
    "python": {
     "delete_cmd_postfix": "",
     "delete_cmd_prefix": "del ",
     "library": "var_list.py",
     "varRefreshCmd": "print(var_dic_list())"
    },
    "r": {
     "delete_cmd_postfix": ") ",
     "delete_cmd_prefix": "rm(",
     "library": "var_list.r",
     "varRefreshCmd": "cat(var_dic_list()) "
    }
   },
   "types_to_exclude": [
    "module",
    "function",
    "builtin_function_or_method",
    "instance",
    "_Feature"
   ],
   "window_display": false
  }
 },
 "nbformat": 4,
 "nbformat_minor": 5
}
